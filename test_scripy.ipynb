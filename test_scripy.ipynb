{
 "cells": [
  {
   "cell_type": "code",
   "execution_count": 52,
   "outputs": [],
   "source": [
    "from __future__ import print_function\n",
    "\n",
    "import random\n",
    "\n",
    "import pandas as pd\n",
    "from tqdm import tqdm\n",
    "import numpy as np"
   ],
   "metadata": {
    "collapsed": false,
    "pycharm": {
     "name": "#%%\n"
    }
   }
  },
  {
   "cell_type": "code",
   "execution_count": 8,
   "outputs": [
    {
     "name": "stdout",
     "output_type": "stream",
     "text": [
      "0\n",
      "1\n",
      "2\n",
      "3\n"
     ]
    },
    {
     "data": {
      "text/plain": "<Figure size 432x288 with 1 Axes>",
      "image/png": "[encoded data removed]"
     },
     "metadata": {
      "needs_background": "light"
     },
     "output_type": "display_data"
    }
   ],
   "source": [
    "import matplotlib.pyplot as plt\n",
    "import numpy as np\n",
    "\n",
    "long_stay_prevalence = [0.2, 0.3, 0.4, 0.5]\n",
    "for index, lsp in enumerate(long_stay_prevalence):\n",
    "    x = [i / 100 for i in range(20, 110, 10)]\n",
    "    y = [lsp / i for i in x]\n",
    "    plt.scatter(x, y, color= '#5a288b',alpha=0.25 + index * 0.25)\n",
    "\n",
    "# x = [0.325, 0.45, 0.56, 0.65]\n",
    "# y = [i/x for i in long_stay_prevalence]\n",
    "# plt.scatter(x, y, color= '#5a288b',alpha=0.4 + index * 0.2)\n",
    "plt.grid(axis='both')\n",
    "plt.xlabel('PPV(% of cohort that is long-stay)')\n",
    "plt.ylabel('new sample size/original sample size')\n",
    "plt.savefig('test.svg')\n",
    "plt.show()"
   ],
   "metadata": {
    "collapsed": false,
    "pycharm": {
     "name": "#%%\n"
    }
   }
  },
  {
   "cell_type": "code",
   "execution_count": 3,
   "outputs": [
    {
     "name": "stdout",
     "output_type": "stream",
     "text": [
      "There are 2 files\n",
      "     icu_stay_id identification_offset  AST (SGOT)_median  \\\n",
      "0         392433                  4687                NaN   \n",
      "1         216421                  1641              194.0   \n",
      "2         364289                  1357                NaN   \n",
      "3        3335357                   459                NaN   \n",
      "4         948534                  1155               31.0   \n",
      "...          ...                   ...                ...   \n",
      "4995     1506026                  1099               59.0   \n",
      "4996     1704142                   766                NaN   \n",
      "4997     2851257                   228              108.0   \n",
      "4998     2716534                  3488              239.0   \n",
      "4999      601385                   334                NaN   \n",
      "\n",
      "      AST (SGOT)_variance  AST (SGOT)_rate_change  albumin_median  \\\n",
      "0                     NaN                     NaN             NaN   \n",
      "1                     NaN                     0.0             2.1   \n",
      "2                     NaN                     NaN             NaN   \n",
      "3                     NaN                     NaN             NaN   \n",
      "4                     NaN                     0.0             3.0   \n",
      "...                   ...                     ...             ...   \n",
      "4995                  NaN                     0.0             1.2   \n",
      "4996                  NaN                     NaN             NaN   \n",
      "4997                  NaN                     0.0             1.7   \n",
      "4998                  NaN                     0.0             2.8   \n",
      "4999                  NaN                     NaN             2.7   \n",
      "\n",
      "      albumin_variance  albumin_rate_change  ALP_median  ALP_variance  ...  \\\n",
      "0                  NaN                  NaN         NaN           NaN  ...   \n",
      "1                  NaN                  0.0         NaN           NaN  ...   \n",
      "2                  NaN                  NaN         NaN           NaN  ...   \n",
      "3                  NaN                  NaN         NaN           NaN  ...   \n",
      "4                  NaN                  0.0         NaN           NaN  ...   \n",
      "...                ...                  ...         ...           ...  ...   \n",
      "4995               NaN                  0.0         NaN           NaN  ...   \n",
      "4996               NaN                  NaN         NaN           NaN  ...   \n",
      "4997               NaN                  0.0         NaN           NaN  ...   \n",
      "4998               NaN                  0.0         NaN           NaN  ...   \n",
      "4999               NaN                  0.0         NaN           NaN  ...   \n",
      "\n",
      "      total bilirubin_rate_change  Total CO2_median  Total CO2_variance  \\\n",
      "0                             NaN               NaN                 NaN   \n",
      "1                             0.0              27.0                 NaN   \n",
      "2                             NaN               NaN                 NaN   \n",
      "3                             NaN               NaN                 NaN   \n",
      "4                             0.0               NaN                 NaN   \n",
      "...                           ...               ...                 ...   \n",
      "4995                          0.0               NaN                 NaN   \n",
      "4996                          NaN               NaN                 NaN   \n",
      "4997                          0.0               NaN                 NaN   \n",
      "4998                          0.0               NaN                 NaN   \n",
      "4999                          0.0               NaN                 NaN   \n",
      "\n",
      "      Total CO2_rate_change  TV/kg IBW_median  TV/kg IBW_variance  \\\n",
      "0                       NaN            6.8493             0.00000   \n",
      "1                       0.0            7.8414             0.05988   \n",
      "2                       NaN               NaN                 NaN   \n",
      "3                       NaN               NaN                 NaN   \n",
      "4                       NaN            9.2263             0.00000   \n",
      "...                     ...               ...                 ...   \n",
      "4995                    NaN          500.0000             0.00000   \n",
      "4996                    NaN               NaN                 NaN   \n",
      "4997                    NaN            9.8246             0.00000   \n",
      "4998                    NaN            7.7301             0.00000   \n",
      "4999                    NaN            8.1988             0.00000   \n",
      "\n",
      "      TV/kg IBW_rate_change  WBC x 1000_median  WBC x 1000_variance  \\\n",
      "0                    0.0000               8.00                  NaN   \n",
      "1                    0.5994               9.70                  NaN   \n",
      "2                       NaN               7.70             0.080000   \n",
      "3                       NaN              21.90                  NaN   \n",
      "4                    0.0000              19.10                  NaN   \n",
      "...                     ...                ...                  ...   \n",
      "4995                 0.0000              16.40                  NaN   \n",
      "4996                    NaN               6.53                  NaN   \n",
      "4997                 0.0000               5.00             1.315833   \n",
      "4998                 0.0000              12.80                  NaN   \n",
      "4999                 0.0000              12.20                  NaN   \n",
      "\n",
      "      WBC x 1000_rate_change  \n",
      "0                        0.0  \n",
      "1                        0.0  \n",
      "2                        0.4  \n",
      "3                        0.0  \n",
      "4                        0.0  \n",
      "...                      ...  \n",
      "4995                     0.0  \n",
      "4996                     0.0  \n",
      "4997                     2.7  \n",
      "4998                     0.0  \n",
      "4999                     0.0  \n",
      "\n",
      "[9399 rows x 176 columns]\n",
      "Index(['icu_stay_id', 'identification_offset', 'AST (SGOT)_median',\n",
      "       'AST (SGOT)_variance', 'AST (SGOT)_rate_change', 'albumin_median',\n",
      "       'albumin_variance', 'albumin_rate_change', 'ALP_median', 'ALP_variance',\n",
      "       ...\n",
      "       'total bilirubin_rate_change', 'Total CO2_median', 'Total CO2_variance',\n",
      "       'Total CO2_rate_change', 'TV/kg IBW_median', 'TV/kg IBW_variance',\n",
      "       'TV/kg IBW_rate_change', 'WBC x 1000_median', 'WBC x 1000_variance',\n",
      "       'WBC x 1000_rate_change'],\n",
      "      dtype='object', length=176)\n",
      "end\n"
     ]
    }
   ],
   "source": [
    "from data_process.common_utils import combine_csvs\n",
    "\n",
    "combine_csvs('output/ards_data_dynamic', 'valid_ards_data_with_dynamic_feature_9399.csv')\n",
    "print('end')"
   ],
   "metadata": {
    "collapsed": false,
    "pycharm": {
     "name": "#%%\n"
    }
   }
  },
  {
   "cell_type": "code",
   "execution_count": 47,
   "outputs": [],
   "source": [],
   "metadata": {
    "collapsed": false,
    "pycharm": {
     "name": "#%%\n"
    }
   }
  },
  {
   "cell_type": "code",
   "execution_count": 54,
   "outputs": [],
   "source": [
    "from data_process.postgres_sql import PostgresSqlConnector\n",
    "\n",
    "test_icu_stay_id = 1502830\n",
    "start_offset = 666\n",
    "end_offset = start_offset + 24 * 60\n",
    "sql_connector = PostgresSqlConnector()"
   ],
   "metadata": {
    "collapsed": false,
    "pycharm": {
     "name": "#%%\n"
    }
   }
  },
  {
   "cell_type": "code",
   "execution_count": 55,
   "outputs": [
    {
     "data": {
      "text/plain": "{'lab':    time_offset      label    value\n 0          666  Total CO2   21.000\n 1          666       paO2   30.000\n 2          666       FiO2  100.000\n 3          666         pH    7.278\n 4          666      paCO2   40.200,\n 'nurseCharting':    time_offset             label value\n 0          674       Temperature  33.1\n 1          674  Respiratory Rate    21,\n 'respiratoryCharting': Empty DataFrame\n Columns: [time_offset, label, value]\n Index: [],\n 'vitalAperiodic': Empty DataFrame\n Columns: [time_offset, label, value]\n Index: [],\n 'vitalPeriodic':    time_offset              label value\n 0          674          heartrate    97\n 1          674   systemicsystolic   106\n 2          674  systemicdiastolic    17\n 3          674       systemicmean    53\n 4          669          heartrate   117\n 5          669   systemicsystolic    96\n 6          669  systemicdiastolic    22\n 7          669       systemicmean    53\n 8          684          heartrate    37\n 9          684   systemicsystolic    32\n 10         684  systemicdiastolic    28\n 11         684       systemicmean    29\n 12         679          heartrate   115\n 13         679   systemicsystolic   137\n 14         679  systemicdiastolic    20\n 15         679       systemicmean    56}"
     },
     "execution_count": 55,
     "metadata": {},
     "output_type": "execute_result"
    }
   ],
   "source": [
    "sql_connector.get_dynamic_feature(\n",
    "    test_icu_stay_id, start_offset, end_offset\n",
    ")"
   ],
   "metadata": {
    "collapsed": false,
    "pycharm": {
     "name": "#%%\n"
    }
   }
  },
  {
   "cell_type": "code",
   "execution_count": null,
   "outputs": [],
   "source": [],
   "metadata": {
    "collapsed": false,
    "pycharm": {
     "name": "#%%\n"
    }
   }
  },
  {
   "cell_type": "code",
   "execution_count": 1,
   "outputs": [],
   "source": [
    "import pandas as pd\n",
    "import statsmodels.api as sm\n",
    "# import pylab as pl\n",
    "import numpy as np"
   ],
   "metadata": {
    "collapsed": false,
    "pycharm": {
     "name": "#%%\n"
    }
   }
  },
  {
   "cell_type": "code",
   "execution_count": 2,
   "outputs": [
    {
     "data": {
      "text/plain": "      icu_stay_id            ards_group ards_severity  hospital_dead_status  \\\n0          351515             long stay        Severe                     0   \n1         1461683             long stay           NaN                     0   \n2         3197402             long stay          Mild                     0   \n3         1652554  spontaneous recovery           NaN                     1   \n4          554884           rapid death          Mild                     1   \n...           ...                   ...           ...                   ...   \n9394       482078  spontaneous recovery      Moderate                     0   \n9395      1514366             long stay           NaN                     1   \n9396      2296557  spontaneous recovery           NaN                     0   \n9397       914123             long stay          Mild                     0   \n9398      1716284             long stay          Mild                     1   \n\n      28d_death_status  icu_death_status   age  apachescore  hospital_los  \\\n0                    0                 0  72.0        111.0         40.04   \n1                    0                 0  87.0         74.0          3.91   \n2                    0                 0  85.0         77.0          5.08   \n3                    1                 0  57.0         51.0          1.79   \n4                    1                 1  68.0          NaN          1.89   \n...                ...               ...   ...          ...           ...   \n9394                 0                 0  50.0         74.0         16.04   \n9395                 1                 0  74.0         51.0         11.87   \n9396                 0                 0  19.0         67.0          6.73   \n9397                 0                 0  77.0         79.0         10.03   \n9398                 1                 1  50.0        114.0          2.29   \n\n      icu_los              admission_diagnosis  \n0       31.76                           Sepsis  \n1        3.41                           Sepsis  \n2        1.98                            Other  \n3        1.51                            Other  \n4        1.14                    Valve Disease  \n...       ...                              ...  \n9394     1.91     Coronary Artery Bypass Graft  \n9395     4.81      Respiratory (Medical/Other)  \n9396     3.71                         Overdose  \n9397     9.90  Cerebrovascular Accident/Stroke  \n9398     2.27                            Other  \n\n[9399 rows x 11 columns]",
      "text/html": "<div>\n<style scoped>\n    .dataframe tbody tr th:only-of-type {\n        vertical-align: middle;\n    }\n\n    .dataframe tbody tr th {\n        vertical-align: top;\n    }\n\n    .dataframe thead th {\n        text-align: right;\n    }\n</style>\n<table border=\"1\" class=\"dataframe\">\n  <thead>\n    <tr style=\"text-align: right;\">\n      <th></th>\n      <th>icu_stay_id</th>\n      <th>ards_group</th>\n      <th>ards_severity</th>\n      <th>hospital_dead_status</th>\n      <th>28d_death_status</th>\n      <th>icu_death_status</th>\n      <th>age</th>\n      <th>apachescore</th>\n      <th>hospital_los</th>\n      <th>icu_los</th>\n      <th>admission_diagnosis</th>\n    </tr>\n  </thead>\n  <tbody>\n    <tr>\n      <th>0</th>\n      <td>351515</td>\n      <td>long stay</td>\n      <td>Severe</td>\n      <td>0</td>\n      <td>0</td>\n      <td>0</td>\n      <td>72.0</td>\n      <td>111.0</td>\n      <td>40.04</td>\n      <td>31.76</td>\n      <td>Sepsis</td>\n    </tr>\n    <tr>\n      <th>1</th>\n      <td>1461683</td>\n      <td>long stay</td>\n      <td>NaN</td>\n      <td>0</td>\n      <td>0</td>\n      <td>0</td>\n      <td>87.0</td>\n      <td>74.0</td>\n      <td>3.91</td>\n      <td>3.41</td>\n      <td>Sepsis</td>\n    </tr>\n    <tr>\n      <th>2</th>\n      <td>3197402</td>\n      <td>long stay</td>\n      <td>Mild</td>\n      <td>0</td>\n      <td>0</td>\n      <td>0</td>\n      <td>85.0</td>\n      <td>77.0</td>\n      <td>5.08</td>\n      <td>1.98</td>\n      <td>Other</td>\n    </tr>\n    <tr>\n      <th>3</th>\n      <td>1652554</td>\n      <td>spontaneous recovery</td>\n      <td>NaN</td>\n      <td>1</td>\n      <td>1</td>\n      <td>0</td>\n      <td>57.0</td>\n      <td>51.0</td>\n      <td>1.79</td>\n      <td>1.51</td>\n      <td>Other</td>\n    </tr>\n    <tr>\n      <th>4</th>\n      <td>554884</td>\n      <td>rapid death</td>\n      <td>Mild</td>\n      <td>1</td>\n      <td>1</td>\n      <td>1</td>\n      <td>68.0</td>\n      <td>NaN</td>\n      <td>1.89</td>\n      <td>1.14</td>\n      <td>Valve Disease</td>\n    </tr>\n    <tr>\n      <th>...</th>\n      <td>...</td>\n      <td>...</td>\n      <td>...</td>\n      <td>...</td>\n      <td>...</td>\n      <td>...</td>\n      <td>...</td>\n      <td>...</td>\n      <td>...</td>\n      <td>...</td>\n      <td>...</td>\n    </tr>\n    <tr>\n      <th>9394</th>\n      <td>482078</td>\n      <td>spontaneous recovery</td>\n      <td>Moderate</td>\n      <td>0</td>\n      <td>0</td>\n      <td>0</td>\n      <td>50.0</td>\n      <td>74.0</td>\n      <td>16.04</td>\n      <td>1.91</td>\n      <td>Coronary Artery Bypass Graft</td>\n    </tr>\n    <tr>\n      <th>9395</th>\n      <td>1514366</td>\n      <td>long stay</td>\n      <td>NaN</td>\n      <td>1</td>\n      <td>1</td>\n      <td>0</td>\n      <td>74.0</td>\n      <td>51.0</td>\n      <td>11.87</td>\n      <td>4.81</td>\n      <td>Respiratory (Medical/Other)</td>\n    </tr>\n    <tr>\n      <th>9396</th>\n      <td>2296557</td>\n      <td>spontaneous recovery</td>\n      <td>NaN</td>\n      <td>0</td>\n      <td>0</td>\n      <td>0</td>\n      <td>19.0</td>\n      <td>67.0</td>\n      <td>6.73</td>\n      <td>3.71</td>\n      <td>Overdose</td>\n    </tr>\n    <tr>\n      <th>9397</th>\n      <td>914123</td>\n      <td>long stay</td>\n      <td>Mild</td>\n      <td>0</td>\n      <td>0</td>\n      <td>0</td>\n      <td>77.0</td>\n      <td>79.0</td>\n      <td>10.03</td>\n      <td>9.90</td>\n      <td>Cerebrovascular Accident/Stroke</td>\n    </tr>\n    <tr>\n      <th>9398</th>\n      <td>1716284</td>\n      <td>long stay</td>\n      <td>Mild</td>\n      <td>1</td>\n      <td>1</td>\n      <td>1</td>\n      <td>50.0</td>\n      <td>114.0</td>\n      <td>2.29</td>\n      <td>2.27</td>\n      <td>Other</td>\n    </tr>\n  </tbody>\n</table>\n<p>9399 rows × 11 columns</p>\n</div>"
     },
     "execution_count": 2,
     "metadata": {},
     "output_type": "execute_result"
    }
   ],
   "source": [
    "df = pd.read_csv('dataset/figure_data/fig3_data.csv')\n",
    "df"
   ],
   "metadata": {
    "collapsed": false,
    "pycharm": {
     "name": "#%%\n"
    }
   }
  },
  {
   "cell_type": "code",
   "execution_count": 5,
   "outputs": [
    {
     "data": {
      "text/plain": "      icu_stay_id            ards_group ards_severity  hospital_dead_status  \\\n211       3022508             long stay           NaN                     0   \n365        847900             long stay          Mild                     0   \n856       3006161             long stay          Mild                     0   \n1249      3016840             long stay      Moderate                     1   \n1298      3019931             long stay        Severe                     1   \n1374      2403812  spontaneous recovery           NaN                     0   \n1443      1678590  spontaneous recovery           NaN                     0   \n1674      3345414             long stay           NaN                     1   \n1767       757458  spontaneous recovery      Moderate                     0   \n1909       644624           rapid death        Severe                     1   \n2093      1160705  spontaneous recovery      Moderate                     0   \n2103      3187847             long stay      Moderate                     1   \n2285      3033441             long stay           NaN                     0   \n2585       540885             long stay           NaN                     0   \n2743      3055003  spontaneous recovery           NaN                     0   \n2770      3350110             long stay      Moderate                     1   \n2825      3032249             long stay      Moderate                     1   \n3116      2019208             long stay           NaN                     0   \n3132      2999526             long stay          Mild                     0   \n3817      3170365             long stay           NaN                     0   \n3842       197739             long stay           NaN                     1   \n3893       793802           rapid death      Moderate                     1   \n3989      2729701             long stay      Moderate                     1   \n4224      3023090             long stay      Moderate                     0   \n4432       661079             long stay           NaN                     0   \n4568      3029235             long stay           NaN                     0   \n5067      3004525             long stay          Mild                     1   \n5205      2767546             long stay           NaN                     0   \n5273      2771444             long stay          Mild                     0   \n5298      2239324             long stay          Mild                     0   \n5349      2882748             long stay          Mild                     1   \n5581      3006971             long stay           NaN                     0   \n5639      3125093             long stay           NaN                     0   \n5659      2782239             long stay           NaN                     0   \n6439       979556             long stay           NaN                     1   \n6536      3026419             long stay           NaN                     0   \n6603      2504725             long stay      Moderate                     0   \n6634      3007867  spontaneous recovery          Mild                     0   \n6735      3019675             long stay        Severe                     1   \n7239      3003836             long stay           NaN                     0   \n7240      3337792             long stay          Mild                     1   \n7342       147449             long stay          Mild                     0   \n7346       364289             long stay           NaN                     1   \n7678      1127071             long stay           NaN                     1   \n7775       197425             long stay          Mild                     0   \n8095       904195             long stay          Mild                     1   \n8205       221190             long stay           NaN                     0   \n8231      1484822             long stay           NaN                     0   \n8233       580700             long stay      Moderate                     0   \n8389      3338385             long stay           NaN                     1   \n8449      2880810  spontaneous recovery          Mild                     0   \n8585      1541433  spontaneous recovery      Moderate                     0   \n8867      2239716  spontaneous recovery          Mild                     0   \n8988      2216692             long stay          Mild                     0   \n9035      2057618  spontaneous recovery           NaN                     0   \n\n      28d_death_status  icu_death_status   age  apachescore  hospital_los  \\\n211                  0                 0  37.0         -1.0         15.80   \n365                  0                 0  66.0         -1.0         17.82   \n856                  0                 0  54.0         -1.0         14.20   \n1249                 1                 1  67.0         -1.0         19.34   \n1298                 1                 0  66.0         -1.0         15.15   \n1374                 0                 0  77.0         -1.0         13.91   \n1443                 0                 0  56.0         -1.0          4.73   \n1674                 1                 0  59.0         -1.0          9.92   \n1767                 0                 0  71.0         -1.0         22.31   \n1909                 1                 1  48.0         -1.0          4.52   \n2093                 0                 0  63.0         -1.0         40.14   \n2103                 1                 0  54.0         -1.0         20.52   \n2285                 0                 0  73.0         -1.0          6.73   \n2585                 0                 0  40.0         -1.0         26.69   \n2743                 0                 0  60.0         -1.0         20.88   \n2770                 1                 1  90.0         -1.0         14.64   \n2825                 1                 1  84.0         -1.0         26.09   \n3116                 0                 0  40.0         -1.0         22.69   \n3132                 0                 0  79.0         -1.0         10.44   \n3817                 0                 0  23.0         -1.0         18.46   \n3842                 1                 0  87.0         -1.0          6.73   \n3893                 1                 1  89.0         -1.0          3.93   \n3989                 1                 1  55.0         -1.0          3.23   \n4224                 0                 0  75.0         -1.0         17.18   \n4432                 0                 0  46.0         -1.0          9.74   \n4568                 0                 0  32.0         -1.0          6.14   \n5067                 1                 0  57.0         -1.0         31.40   \n5205                 0                 0  88.0         -1.0         33.36   \n5273                 0                 0  61.0         -1.0          8.15   \n5298                 0                 0  53.0         -1.0         45.95   \n5349                 1                 0  85.0         -1.0         22.34   \n5581                 0                 0  54.0         -1.0         14.10   \n5639                 0                 0  49.0         -1.0         33.60   \n5659                 0                 0  22.0         -1.0         31.59   \n6439                 1                 1  65.0         -1.0         12.57   \n6536                 0                 0  60.0         -1.0          5.89   \n6603                 0                 0  40.0         -1.0         24.23   \n6634                 0                 0  75.0         -1.0          5.60   \n6735                 1                 1  63.0         -1.0         13.74   \n7239                 0                 0  74.0         -1.0         17.79   \n7240                 1                 1  55.0         -1.0          5.58   \n7342                 0                 0  54.0         -1.0         15.26   \n7346                 0                 1  90.0         -1.0         30.46   \n7678                 0                 1  54.0         -1.0         36.60   \n7775                 0                 0  19.0         -1.0          6.17   \n8095                 1                 1  67.0         -1.0         20.19   \n8205                 0                 0  26.0         -1.0         38.57   \n8231                 0                 0  54.0         -1.0          8.12   \n8233                 0                 0  76.0         -1.0         14.47   \n8389                 1                 1  89.0         -1.0          6.62   \n8449                 0                 0  90.0         -1.0         11.50   \n8585                 0                 0  79.0         -1.0          5.10   \n8867                 0                 0  82.0         -1.0          5.65   \n8988                 0                 0  65.0         -1.0         11.65   \n9035                 0                 0  81.0         -1.0          6.28   \n\n      icu_los              admission_diagnosis  \n211     12.87      Respiratory (Medical/Other)  \n365     17.39                            Other  \n856      6.80                             Coma  \n1249    19.00              Asthma or Emphysema  \n1298     9.91                           Sepsis  \n1374     4.75              Asthma or Emphysema  \n1443     2.43      Respiratory (Medical/Other)  \n1674     8.81  Cerebrovascular Accident/Stroke  \n1767     2.76      Respiratory (Medical/Other)  \n1909     3.17                           Sepsis  \n2093    14.19                            Other  \n2103    15.13      Respiratory (Medical/Other)  \n2285     2.47                            Other  \n2585    23.52                       Neurologic  \n2743    17.05                           Trauma  \n2770    14.57                           Sepsis  \n2825    25.91                           Sepsis  \n3116    13.71                            Other  \n3132    10.43                        Pneumonia  \n3817     3.11                           Trauma  \n3842     4.26                        Pneumonia  \n3893     1.25                           Sepsis  \n3989     2.88           Gastrointestinal Bleed  \n4224     9.31                            Other  \n4432     5.54                            Other  \n4568     5.19                            Other  \n5067     2.98      Respiratory (Medical/Other)  \n5205    17.83                           Sepsis  \n5273     3.51      Respiratory (Medical/Other)  \n5298    45.84      Respiratory (Medical/Other)  \n5349    15.38                        Pneumonia  \n5581     6.24           Cardiovascular (Other)  \n5639    14.19                            Other  \n5659    31.53                           Trauma  \n6439    12.35      Acute Myocardial Infarction  \n6536     3.87                            Other  \n6603    24.22                            Other  \n6634     1.92                            Other  \n6735    12.77                            Other  \n7239     4.82                           Sepsis  \n7240     5.58  Cerebrovascular Accident/Stroke  \n7342    10.82                            Other  \n7346    30.34                            Other  \n7678    35.08                           Sepsis  \n7775     5.08                           Sepsis  \n8095    18.98                            Other  \n8205    27.58                           Sepsis  \n8231     8.10                           Sepsis  \n8233     8.13                            Other  \n8389     6.58                        Pneumonia  \n8449     6.85                            Other  \n8585     1.84      Respiratory (Medical/Other)  \n8867     2.80                        Pneumonia  \n8988     6.56              Asthma or Emphysema  \n9035     2.36                        Pneumonia  ",
      "text/html": "<div>\n<style scoped>\n    .dataframe tbody tr th:only-of-type {\n        vertical-align: middle;\n    }\n\n    .dataframe tbody tr th {\n        vertical-align: top;\n    }\n\n    .dataframe thead th {\n        text-align: right;\n    }\n</style>\n<table border=\"1\" class=\"dataframe\">\n  <thead>\n    <tr style=\"text-align: right;\">\n      <th></th>\n      <th>icu_stay_id</th>\n      <th>ards_group</th>\n      <th>ards_severity</th>\n      <th>hospital_dead_status</th>\n      <th>28d_death_status</th>\n      <th>icu_death_status</th>\n      <th>age</th>\n      <th>apachescore</th>\n      <th>hospital_los</th>\n      <th>icu_los</th>\n      <th>admission_diagnosis</th>\n    </tr>\n  </thead>\n  <tbody>\n    <tr>\n      <th>211</th>\n      <td>3022508</td>\n      <td>long stay</td>\n      <td>NaN</td>\n      <td>0</td>\n      <td>0</td>\n      <td>0</td>\n      <td>37.0</td>\n      <td>-1.0</td>\n      <td>15.80</td>\n      <td>12.87</td>\n      <td>Respiratory (Medical/Other)</td>\n    </tr>\n    <tr>\n      <th>365</th>\n      <td>847900</td>\n      <td>long stay</td>\n      <td>Mild</td>\n      <td>0</td>\n      <td>0</td>\n      <td>0</td>\n      <td>66.0</td>\n      <td>-1.0</td>\n      <td>17.82</td>\n      <td>17.39</td>\n      <td>Other</td>\n    </tr>\n    <tr>\n      <th>856</th>\n      <td>3006161</td>\n      <td>long stay</td>\n      <td>Mild</td>\n      <td>0</td>\n      <td>0</td>\n      <td>0</td>\n      <td>54.0</td>\n      <td>-1.0</td>\n      <td>14.20</td>\n      <td>6.80</td>\n      <td>Coma</td>\n    </tr>\n    <tr>\n      <th>1249</th>\n      <td>3016840</td>\n      <td>long stay</td>\n      <td>Moderate</td>\n      <td>1</td>\n      <td>1</td>\n      <td>1</td>\n      <td>67.0</td>\n      <td>-1.0</td>\n      <td>19.34</td>\n      <td>19.00</td>\n      <td>Asthma or Emphysema</td>\n    </tr>\n    <tr>\n      <th>1298</th>\n      <td>3019931</td>\n      <td>long stay</td>\n      <td>Severe</td>\n      <td>1</td>\n      <td>1</td>\n      <td>0</td>\n      <td>66.0</td>\n      <td>-1.0</td>\n      <td>15.15</td>\n      <td>9.91</td>\n      <td>Sepsis</td>\n    </tr>\n    <tr>\n      <th>1374</th>\n      <td>2403812</td>\n      <td>spontaneous recovery</td>\n      <td>NaN</td>\n      <td>0</td>\n      <td>0</td>\n      <td>0</td>\n      <td>77.0</td>\n      <td>-1.0</td>\n      <td>13.91</td>\n      <td>4.75</td>\n      <td>Asthma or Emphysema</td>\n    </tr>\n    <tr>\n      <th>1443</th>\n      <td>1678590</td>\n      <td>spontaneous recovery</td>\n      <td>NaN</td>\n      <td>0</td>\n      <td>0</td>\n      <td>0</td>\n      <td>56.0</td>\n      <td>-1.0</td>\n      <td>4.73</td>\n      <td>2.43</td>\n      <td>Respiratory (Medical/Other)</td>\n    </tr>\n    <tr>\n      <th>1674</th>\n      <td>3345414</td>\n      <td>long stay</td>\n      <td>NaN</td>\n      <td>1</td>\n      <td>1</td>\n      <td>0</td>\n      <td>59.0</td>\n      <td>-1.0</td>\n      <td>9.92</td>\n      <td>8.81</td>\n      <td>Cerebrovascular Accident/Stroke</td>\n    </tr>\n    <tr>\n      <th>1767</th>\n      <td>757458</td>\n      <td>spontaneous recovery</td>\n      <td>Moderate</td>\n      <td>0</td>\n      <td>0</td>\n      <td>0</td>\n      <td>71.0</td>\n      <td>-1.0</td>\n      <td>22.31</td>\n      <td>2.76</td>\n      <td>Respiratory (Medical/Other)</td>\n    </tr>\n    <tr>\n      <th>1909</th>\n      <td>644624</td>\n      <td>rapid death</td>\n      <td>Severe</td>\n      <td>1</td>\n      <td>1</td>\n      <td>1</td>\n      <td>48.0</td>\n      <td>-1.0</td>\n      <td>4.52</td>\n      <td>3.17</td>\n      <td>Sepsis</td>\n    </tr>\n    <tr>\n      <th>2093</th>\n      <td>1160705</td>\n      <td>spontaneous recovery</td>\n      <td>Moderate</td>\n      <td>0</td>\n      <td>0</td>\n      <td>0</td>\n      <td>63.0</td>\n      <td>-1.0</td>\n      <td>40.14</td>\n      <td>14.19</td>\n      <td>Other</td>\n    </tr>\n    <tr>\n      <th>2103</th>\n      <td>3187847</td>\n      <td>long stay</td>\n      <td>Moderate</td>\n      <td>1</td>\n      <td>1</td>\n      <td>0</td>\n      <td>54.0</td>\n      <td>-1.0</td>\n      <td>20.52</td>\n      <td>15.13</td>\n      <td>Respiratory (Medical/Other)</td>\n    </tr>\n    <tr>\n      <th>2285</th>\n      <td>3033441</td>\n      <td>long stay</td>\n      <td>NaN</td>\n      <td>0</td>\n      <td>0</td>\n      <td>0</td>\n      <td>73.0</td>\n      <td>-1.0</td>\n      <td>6.73</td>\n      <td>2.47</td>\n      <td>Other</td>\n    </tr>\n    <tr>\n      <th>2585</th>\n      <td>540885</td>\n      <td>long stay</td>\n      <td>NaN</td>\n      <td>0</td>\n      <td>0</td>\n      <td>0</td>\n      <td>40.0</td>\n      <td>-1.0</td>\n      <td>26.69</td>\n      <td>23.52</td>\n      <td>Neurologic</td>\n    </tr>\n    <tr>\n      <th>2743</th>\n      <td>3055003</td>\n      <td>spontaneous recovery</td>\n      <td>NaN</td>\n      <td>0</td>\n      <td>0</td>\n      <td>0</td>\n      <td>60.0</td>\n      <td>-1.0</td>\n      <td>20.88</td>\n      <td>17.05</td>\n      <td>Trauma</td>\n    </tr>\n    <tr>\n      <th>2770</th>\n      <td>3350110</td>\n      <td>long stay</td>\n      <td>Moderate</td>\n      <td>1</td>\n      <td>1</td>\n      <td>1</td>\n      <td>90.0</td>\n      <td>-1.0</td>\n      <td>14.64</td>\n      <td>14.57</td>\n      <td>Sepsis</td>\n    </tr>\n    <tr>\n      <th>2825</th>\n      <td>3032249</td>\n      <td>long stay</td>\n      <td>Moderate</td>\n      <td>1</td>\n      <td>1</td>\n      <td>1</td>\n      <td>84.0</td>\n      <td>-1.0</td>\n      <td>26.09</td>\n      <td>25.91</td>\n      <td>Sepsis</td>\n    </tr>\n    <tr>\n      <th>3116</th>\n      <td>2019208</td>\n      <td>long stay</td>\n      <td>NaN</td>\n      <td>0</td>\n      <td>0</td>\n      <td>0</td>\n      <td>40.0</td>\n      <td>-1.0</td>\n      <td>22.69</td>\n      <td>13.71</td>\n      <td>Other</td>\n    </tr>\n    <tr>\n      <th>3132</th>\n      <td>2999526</td>\n      <td>long stay</td>\n      <td>Mild</td>\n      <td>0</td>\n      <td>0</td>\n      <td>0</td>\n      <td>79.0</td>\n      <td>-1.0</td>\n      <td>10.44</td>\n      <td>10.43</td>\n      <td>Pneumonia</td>\n    </tr>\n    <tr>\n      <th>3817</th>\n      <td>3170365</td>\n      <td>long stay</td>\n      <td>NaN</td>\n      <td>0</td>\n      <td>0</td>\n      <td>0</td>\n      <td>23.0</td>\n      <td>-1.0</td>\n      <td>18.46</td>\n      <td>3.11</td>\n      <td>Trauma</td>\n    </tr>\n    <tr>\n      <th>3842</th>\n      <td>197739</td>\n      <td>long stay</td>\n      <td>NaN</td>\n      <td>1</td>\n      <td>1</td>\n      <td>0</td>\n      <td>87.0</td>\n      <td>-1.0</td>\n      <td>6.73</td>\n      <td>4.26</td>\n      <td>Pneumonia</td>\n    </tr>\n    <tr>\n      <th>3893</th>\n      <td>793802</td>\n      <td>rapid death</td>\n      <td>Moderate</td>\n      <td>1</td>\n      <td>1</td>\n      <td>1</td>\n      <td>89.0</td>\n      <td>-1.0</td>\n      <td>3.93</td>\n      <td>1.25</td>\n      <td>Sepsis</td>\n    </tr>\n    <tr>\n      <th>3989</th>\n      <td>2729701</td>\n      <td>long stay</td>\n      <td>Moderate</td>\n      <td>1</td>\n      <td>1</td>\n      <td>1</td>\n      <td>55.0</td>\n      <td>-1.0</td>\n      <td>3.23</td>\n      <td>2.88</td>\n      <td>Gastrointestinal Bleed</td>\n    </tr>\n    <tr>\n      <th>4224</th>\n      <td>3023090</td>\n      <td>long stay</td>\n      <td>Moderate</td>\n      <td>0</td>\n      <td>0</td>\n      <td>0</td>\n      <td>75.0</td>\n      <td>-1.0</td>\n      <td>17.18</td>\n      <td>9.31</td>\n      <td>Other</td>\n    </tr>\n    <tr>\n      <th>4432</th>\n      <td>661079</td>\n      <td>long stay</td>\n      <td>NaN</td>\n      <td>0</td>\n      <td>0</td>\n      <td>0</td>\n      <td>46.0</td>\n      <td>-1.0</td>\n      <td>9.74</td>\n      <td>5.54</td>\n      <td>Other</td>\n    </tr>\n    <tr>\n      <th>4568</th>\n      <td>3029235</td>\n      <td>long stay</td>\n      <td>NaN</td>\n      <td>0</td>\n      <td>0</td>\n      <td>0</td>\n      <td>32.0</td>\n      <td>-1.0</td>\n      <td>6.14</td>\n      <td>5.19</td>\n      <td>Other</td>\n    </tr>\n    <tr>\n      <th>5067</th>\n      <td>3004525</td>\n      <td>long stay</td>\n      <td>Mild</td>\n      <td>1</td>\n      <td>1</td>\n      <td>0</td>\n      <td>57.0</td>\n      <td>-1.0</td>\n      <td>31.40</td>\n      <td>2.98</td>\n      <td>Respiratory (Medical/Other)</td>\n    </tr>\n    <tr>\n      <th>5205</th>\n      <td>2767546</td>\n      <td>long stay</td>\n      <td>NaN</td>\n      <td>0</td>\n      <td>0</td>\n      <td>0</td>\n      <td>88.0</td>\n      <td>-1.0</td>\n      <td>33.36</td>\n      <td>17.83</td>\n      <td>Sepsis</td>\n    </tr>\n    <tr>\n      <th>5273</th>\n      <td>2771444</td>\n      <td>long stay</td>\n      <td>Mild</td>\n      <td>0</td>\n      <td>0</td>\n      <td>0</td>\n      <td>61.0</td>\n      <td>-1.0</td>\n      <td>8.15</td>\n      <td>3.51</td>\n      <td>Respiratory (Medical/Other)</td>\n    </tr>\n    <tr>\n      <th>5298</th>\n      <td>2239324</td>\n      <td>long stay</td>\n      <td>Mild</td>\n      <td>0</td>\n      <td>0</td>\n      <td>0</td>\n      <td>53.0</td>\n      <td>-1.0</td>\n      <td>45.95</td>\n      <td>45.84</td>\n      <td>Respiratory (Medical/Other)</td>\n    </tr>\n    <tr>\n      <th>5349</th>\n      <td>2882748</td>\n      <td>long stay</td>\n      <td>Mild</td>\n      <td>1</td>\n      <td>1</td>\n      <td>0</td>\n      <td>85.0</td>\n      <td>-1.0</td>\n      <td>22.34</td>\n      <td>15.38</td>\n      <td>Pneumonia</td>\n    </tr>\n    <tr>\n      <th>5581</th>\n      <td>3006971</td>\n      <td>long stay</td>\n      <td>NaN</td>\n      <td>0</td>\n      <td>0</td>\n      <td>0</td>\n      <td>54.0</td>\n      <td>-1.0</td>\n      <td>14.10</td>\n      <td>6.24</td>\n      <td>Cardiovascular (Other)</td>\n    </tr>\n    <tr>\n      <th>5639</th>\n      <td>3125093</td>\n      <td>long stay</td>\n      <td>NaN</td>\n      <td>0</td>\n      <td>0</td>\n      <td>0</td>\n      <td>49.0</td>\n      <td>-1.0</td>\n      <td>33.60</td>\n      <td>14.19</td>\n      <td>Other</td>\n    </tr>\n    <tr>\n      <th>5659</th>\n      <td>2782239</td>\n      <td>long stay</td>\n      <td>NaN</td>\n      <td>0</td>\n      <td>0</td>\n      <td>0</td>\n      <td>22.0</td>\n      <td>-1.0</td>\n      <td>31.59</td>\n      <td>31.53</td>\n      <td>Trauma</td>\n    </tr>\n    <tr>\n      <th>6439</th>\n      <td>979556</td>\n      <td>long stay</td>\n      <td>NaN</td>\n      <td>1</td>\n      <td>1</td>\n      <td>1</td>\n      <td>65.0</td>\n      <td>-1.0</td>\n      <td>12.57</td>\n      <td>12.35</td>\n      <td>Acute Myocardial Infarction</td>\n    </tr>\n    <tr>\n      <th>6536</th>\n      <td>3026419</td>\n      <td>long stay</td>\n      <td>NaN</td>\n      <td>0</td>\n      <td>0</td>\n      <td>0</td>\n      <td>60.0</td>\n      <td>-1.0</td>\n      <td>5.89</td>\n      <td>3.87</td>\n      <td>Other</td>\n    </tr>\n    <tr>\n      <th>6603</th>\n      <td>2504725</td>\n      <td>long stay</td>\n      <td>Moderate</td>\n      <td>0</td>\n      <td>0</td>\n      <td>0</td>\n      <td>40.0</td>\n      <td>-1.0</td>\n      <td>24.23</td>\n      <td>24.22</td>\n      <td>Other</td>\n    </tr>\n    <tr>\n      <th>6634</th>\n      <td>3007867</td>\n      <td>spontaneous recovery</td>\n      <td>Mild</td>\n      <td>0</td>\n      <td>0</td>\n      <td>0</td>\n      <td>75.0</td>\n      <td>-1.0</td>\n      <td>5.60</td>\n      <td>1.92</td>\n      <td>Other</td>\n    </tr>\n    <tr>\n      <th>6735</th>\n      <td>3019675</td>\n      <td>long stay</td>\n      <td>Severe</td>\n      <td>1</td>\n      <td>1</td>\n      <td>1</td>\n      <td>63.0</td>\n      <td>-1.0</td>\n      <td>13.74</td>\n      <td>12.77</td>\n      <td>Other</td>\n    </tr>\n    <tr>\n      <th>7239</th>\n      <td>3003836</td>\n      <td>long stay</td>\n      <td>NaN</td>\n      <td>0</td>\n      <td>0</td>\n      <td>0</td>\n      <td>74.0</td>\n      <td>-1.0</td>\n      <td>17.79</td>\n      <td>4.82</td>\n      <td>Sepsis</td>\n    </tr>\n    <tr>\n      <th>7240</th>\n      <td>3337792</td>\n      <td>long stay</td>\n      <td>Mild</td>\n      <td>1</td>\n      <td>1</td>\n      <td>1</td>\n      <td>55.0</td>\n      <td>-1.0</td>\n      <td>5.58</td>\n      <td>5.58</td>\n      <td>Cerebrovascular Accident/Stroke</td>\n    </tr>\n    <tr>\n      <th>7342</th>\n      <td>147449</td>\n      <td>long stay</td>\n      <td>Mild</td>\n      <td>0</td>\n      <td>0</td>\n      <td>0</td>\n      <td>54.0</td>\n      <td>-1.0</td>\n      <td>15.26</td>\n      <td>10.82</td>\n      <td>Other</td>\n    </tr>\n    <tr>\n      <th>7346</th>\n      <td>364289</td>\n      <td>long stay</td>\n      <td>NaN</td>\n      <td>1</td>\n      <td>0</td>\n      <td>1</td>\n      <td>90.0</td>\n      <td>-1.0</td>\n      <td>30.46</td>\n      <td>30.34</td>\n      <td>Other</td>\n    </tr>\n    <tr>\n      <th>7678</th>\n      <td>1127071</td>\n      <td>long stay</td>\n      <td>NaN</td>\n      <td>1</td>\n      <td>0</td>\n      <td>1</td>\n      <td>54.0</td>\n      <td>-1.0</td>\n      <td>36.60</td>\n      <td>35.08</td>\n      <td>Sepsis</td>\n    </tr>\n    <tr>\n      <th>7775</th>\n      <td>197425</td>\n      <td>long stay</td>\n      <td>Mild</td>\n      <td>0</td>\n      <td>0</td>\n      <td>0</td>\n      <td>19.0</td>\n      <td>-1.0</td>\n      <td>6.17</td>\n      <td>5.08</td>\n      <td>Sepsis</td>\n    </tr>\n    <tr>\n      <th>8095</th>\n      <td>904195</td>\n      <td>long stay</td>\n      <td>Mild</td>\n      <td>1</td>\n      <td>1</td>\n      <td>1</td>\n      <td>67.0</td>\n      <td>-1.0</td>\n      <td>20.19</td>\n      <td>18.98</td>\n      <td>Other</td>\n    </tr>\n    <tr>\n      <th>8205</th>\n      <td>221190</td>\n      <td>long stay</td>\n      <td>NaN</td>\n      <td>0</td>\n      <td>0</td>\n      <td>0</td>\n      <td>26.0</td>\n      <td>-1.0</td>\n      <td>38.57</td>\n      <td>27.58</td>\n      <td>Sepsis</td>\n    </tr>\n    <tr>\n      <th>8231</th>\n      <td>1484822</td>\n      <td>long stay</td>\n      <td>NaN</td>\n      <td>0</td>\n      <td>0</td>\n      <td>0</td>\n      <td>54.0</td>\n      <td>-1.0</td>\n      <td>8.12</td>\n      <td>8.10</td>\n      <td>Sepsis</td>\n    </tr>\n    <tr>\n      <th>8233</th>\n      <td>580700</td>\n      <td>long stay</td>\n      <td>Moderate</td>\n      <td>0</td>\n      <td>0</td>\n      <td>0</td>\n      <td>76.0</td>\n      <td>-1.0</td>\n      <td>14.47</td>\n      <td>8.13</td>\n      <td>Other</td>\n    </tr>\n    <tr>\n      <th>8389</th>\n      <td>3338385</td>\n      <td>long stay</td>\n      <td>NaN</td>\n      <td>1</td>\n      <td>1</td>\n      <td>1</td>\n      <td>89.0</td>\n      <td>-1.0</td>\n      <td>6.62</td>\n      <td>6.58</td>\n      <td>Pneumonia</td>\n    </tr>\n    <tr>\n      <th>8449</th>\n      <td>2880810</td>\n      <td>spontaneous recovery</td>\n      <td>Mild</td>\n      <td>0</td>\n      <td>0</td>\n      <td>0</td>\n      <td>90.0</td>\n      <td>-1.0</td>\n      <td>11.50</td>\n      <td>6.85</td>\n      <td>Other</td>\n    </tr>\n    <tr>\n      <th>8585</th>\n      <td>1541433</td>\n      <td>spontaneous recovery</td>\n      <td>Moderate</td>\n      <td>0</td>\n      <td>0</td>\n      <td>0</td>\n      <td>79.0</td>\n      <td>-1.0</td>\n      <td>5.10</td>\n      <td>1.84</td>\n      <td>Respiratory (Medical/Other)</td>\n    </tr>\n    <tr>\n      <th>8867</th>\n      <td>2239716</td>\n      <td>spontaneous recovery</td>\n      <td>Mild</td>\n      <td>0</td>\n      <td>0</td>\n      <td>0</td>\n      <td>82.0</td>\n      <td>-1.0</td>\n      <td>5.65</td>\n      <td>2.80</td>\n      <td>Pneumonia</td>\n    </tr>\n    <tr>\n      <th>8988</th>\n      <td>2216692</td>\n      <td>long stay</td>\n      <td>Mild</td>\n      <td>0</td>\n      <td>0</td>\n      <td>0</td>\n      <td>65.0</td>\n      <td>-1.0</td>\n      <td>11.65</td>\n      <td>6.56</td>\n      <td>Asthma or Emphysema</td>\n    </tr>\n    <tr>\n      <th>9035</th>\n      <td>2057618</td>\n      <td>spontaneous recovery</td>\n      <td>NaN</td>\n      <td>0</td>\n      <td>0</td>\n      <td>0</td>\n      <td>81.0</td>\n      <td>-1.0</td>\n      <td>6.28</td>\n      <td>2.36</td>\n      <td>Pneumonia</td>\n    </tr>\n  </tbody>\n</table>\n</div>"
     },
     "execution_count": 5,
     "metadata": {},
     "output_type": "execute_result"
    }
   ],
   "source": [
    "df[df['apachescore'] < 1]"
   ],
   "metadata": {
    "collapsed": false,
    "pycharm": {
     "name": "#%%\n"
    }
   }
  },
  {
   "cell_type": "code",
   "execution_count": 183,
   "outputs": [
    {
     "data": {
      "text/plain": "                ards_group  GCS Eyes_median  Total CO2_median  \\\n0                long stay              2.5               NaN   \n1                long stay              4.0              30.1   \n2                long stay              2.0               NaN   \n3     spontaneous recovery              1.0               NaN   \n4              rapid death              1.0               NaN   \n...                    ...              ...               ...   \n9394  spontaneous recovery              4.0               NaN   \n9395             long stay              1.0              29.0   \n9396  spontaneous recovery              1.5               NaN   \n9397             long stay              2.0               NaN   \n9398             long stay              1.0              22.0   \n\n      Base Excess_median  bicarbonate_median  apachescore  pH_median  \\\n0                    NaN                 8.0        111.0       7.23   \n1                   4.90                30.0         74.0       7.44   \n2                   0.10                 NaN         77.0       7.45   \n3                    NaN                21.0         51.0        NaN   \n4                    NaN                12.0          NaN       7.26   \n...                  ...                 ...          ...        ...   \n9394                2.85                27.0         74.0       7.41   \n9395                2.00                27.0         51.0       7.38   \n9396                 NaN                 NaN         67.0        NaN   \n9397                1.70                24.0         79.0       7.56   \n9398               -2.30                20.5        114.0       7.43   \n\n      FiO2_median  P/F ratio_median  \n0           100.0               NaN  \n1             NaN               NaN  \n2            40.0               NaN  \n3             NaN               NaN  \n4             NaN               NaN  \n...           ...               ...  \n9394         45.0            164.70  \n9395         60.0            129.86  \n9396          NaN               NaN  \n9397          NaN               NaN  \n9398         40.0               NaN  \n\n[9399 rows x 9 columns]",
      "text/html": "<div>\n<style scoped>\n    .dataframe tbody tr th:only-of-type {\n        vertical-align: middle;\n    }\n\n    .dataframe tbody tr th {\n        vertical-align: top;\n    }\n\n    .dataframe thead th {\n        text-align: right;\n    }\n</style>\n<table border=\"1\" class=\"dataframe\">\n  <thead>\n    <tr style=\"text-align: right;\">\n      <th></th>\n      <th>ards_group</th>\n      <th>GCS Eyes_median</th>\n      <th>Total CO2_median</th>\n      <th>Base Excess_median</th>\n      <th>bicarbonate_median</th>\n      <th>apachescore</th>\n      <th>pH_median</th>\n      <th>FiO2_median</th>\n      <th>P/F ratio_median</th>\n    </tr>\n  </thead>\n  <tbody>\n    <tr>\n      <th>0</th>\n      <td>long stay</td>\n      <td>2.5</td>\n      <td>NaN</td>\n      <td>NaN</td>\n      <td>8.0</td>\n      <td>111.0</td>\n      <td>7.23</td>\n      <td>100.0</td>\n      <td>NaN</td>\n    </tr>\n    <tr>\n      <th>1</th>\n      <td>long stay</td>\n      <td>4.0</td>\n      <td>30.1</td>\n      <td>4.90</td>\n      <td>30.0</td>\n      <td>74.0</td>\n      <td>7.44</td>\n      <td>NaN</td>\n      <td>NaN</td>\n    </tr>\n    <tr>\n      <th>2</th>\n      <td>long stay</td>\n      <td>2.0</td>\n      <td>NaN</td>\n      <td>0.10</td>\n      <td>NaN</td>\n      <td>77.0</td>\n      <td>7.45</td>\n      <td>40.0</td>\n      <td>NaN</td>\n    </tr>\n    <tr>\n      <th>3</th>\n      <td>spontaneous recovery</td>\n      <td>1.0</td>\n      <td>NaN</td>\n      <td>NaN</td>\n      <td>21.0</td>\n      <td>51.0</td>\n      <td>NaN</td>\n      <td>NaN</td>\n      <td>NaN</td>\n    </tr>\n    <tr>\n      <th>4</th>\n      <td>rapid death</td>\n      <td>1.0</td>\n      <td>NaN</td>\n      <td>NaN</td>\n      <td>12.0</td>\n      <td>NaN</td>\n      <td>7.26</td>\n      <td>NaN</td>\n      <td>NaN</td>\n    </tr>\n    <tr>\n      <th>...</th>\n      <td>...</td>\n      <td>...</td>\n      <td>...</td>\n      <td>...</td>\n      <td>...</td>\n      <td>...</td>\n      <td>...</td>\n      <td>...</td>\n      <td>...</td>\n    </tr>\n    <tr>\n      <th>9394</th>\n      <td>spontaneous recovery</td>\n      <td>4.0</td>\n      <td>NaN</td>\n      <td>2.85</td>\n      <td>27.0</td>\n      <td>74.0</td>\n      <td>7.41</td>\n      <td>45.0</td>\n      <td>164.70</td>\n    </tr>\n    <tr>\n      <th>9395</th>\n      <td>long stay</td>\n      <td>1.0</td>\n      <td>29.0</td>\n      <td>2.00</td>\n      <td>27.0</td>\n      <td>51.0</td>\n      <td>7.38</td>\n      <td>60.0</td>\n      <td>129.86</td>\n    </tr>\n    <tr>\n      <th>9396</th>\n      <td>spontaneous recovery</td>\n      <td>1.5</td>\n      <td>NaN</td>\n      <td>NaN</td>\n      <td>NaN</td>\n      <td>67.0</td>\n      <td>NaN</td>\n      <td>NaN</td>\n      <td>NaN</td>\n    </tr>\n    <tr>\n      <th>9397</th>\n      <td>long stay</td>\n      <td>2.0</td>\n      <td>NaN</td>\n      <td>1.70</td>\n      <td>24.0</td>\n      <td>79.0</td>\n      <td>7.56</td>\n      <td>NaN</td>\n      <td>NaN</td>\n    </tr>\n    <tr>\n      <th>9398</th>\n      <td>long stay</td>\n      <td>1.0</td>\n      <td>22.0</td>\n      <td>-2.30</td>\n      <td>20.5</td>\n      <td>114.0</td>\n      <td>7.43</td>\n      <td>40.0</td>\n      <td>NaN</td>\n    </tr>\n  </tbody>\n</table>\n<p>9399 rows × 9 columns</p>\n</div>"
     },
     "execution_count": 183,
     "metadata": {},
     "output_type": "execute_result"
    }
   ],
   "source": [
    "df = pd.read_csv('dataset/figure_data/fig4_data.csv')\n",
    "df = df[['ards_group', 'GCS Eyes_median', 'Total CO2_median', 'Base Excess_median', 'bicarbonate_median', 'apachescore',\n",
    "         'pH_median', 'FiO2_median', 'P/F ratio_median']]\n",
    "df\n",
    "# test = df[['ards_group', 'apachescore']]\n",
    "# test.groupby('ards_group').max('apachescore')"
   ],
   "metadata": {
    "collapsed": false,
    "pycharm": {
     "name": "#%%\n"
    }
   }
  },
  {
   "cell_type": "code",
   "execution_count": 189,
   "outputs": [
    {
     "name": "stdout",
     "output_type": "stream",
     "text": [
      "train_cols:  Index(['GCS Eyes_median', 'Total CO2_median', 'Base Excess_median',\n",
      "       'bicarbonate_median', 'apachescore', 'pH_median', 'FiO2_median',\n",
      "       'P/F ratio_median'],\n",
      "      dtype='object')\n",
      "before drop (9399, 2)\n",
      "after drop (5983, 2)\n",
      "Optimization terminated successfully.\n",
      "         Current function value: 0.127830\n",
      "         Iterations 8\n",
      "before drop (9399, 2)\n",
      "after drop (1493, 2)\n",
      "Optimization terminated successfully.\n",
      "         Current function value: 0.157832\n",
      "         Iterations 7\n",
      "before drop (9399, 2)\n",
      "after drop (6186, 2)\n",
      "Optimization terminated successfully.\n",
      "         Current function value: 0.693064\n",
      "         Iterations 3\n",
      "before drop (9399, 2)\n",
      "after drop (8594, 2)\n",
      "Optimization terminated successfully.\n",
      "         Current function value: 0.098369\n",
      "         Iterations 8\n",
      "before drop (9399, 2)\n",
      "after drop (8417, 2)\n",
      "Optimization terminated successfully.\n",
      "         Current function value: 0.263474\n",
      "         Iterations 7\n",
      "before drop (9399, 2)\n",
      "after drop (7569, 2)\n",
      "Optimization terminated successfully.\n",
      "         Current function value: 0.142376\n",
      "         Iterations 7\n",
      "before drop (9399, 2)\n",
      "after drop (6683, 2)\n",
      "Optimization terminated successfully.\n",
      "         Current function value: 0.237605\n",
      "         Iterations 7\n",
      "before drop (9399, 2)\n",
      "after drop (3203, 2)\n",
      "Optimization terminated successfully.\n",
      "         Current function value: 0.185704\n",
      "         Iterations 7\n"
     ]
    },
    {
     "name": "stderr",
     "output_type": "stream",
     "text": [
      "/Users/sweeney/opt/anaconda3/envs/ards/lib/python3.7/site-packages/ipykernel_launcher.py:2: DeprecationWarning: The default dtype for empty Series will be 'object' instead of 'float64' in a future version. Specify a dtype explicitly to silence this warning.\n",
      "  \n"
     ]
    },
    {
     "data": {
      "text/plain": "GCS Eyes_median       0.193799\nTotal CO2_median      0.868457\nBase Excess_median    0.995990\nbicarbonate_median    0.840581\napachescore           0.967132\npH_median             0.630748\nFiO2_median           0.945297\nP/F ratio_median      0.982461\ndtype: float64"
     },
     "execution_count": 189,
     "metadata": {},
     "output_type": "execute_result"
    }
   ],
   "source": [
    "def get_or_ratio(input_data):\n",
    "    or_list = pd.Series()\n",
    "    train_data = input_data.copy()\n",
    "    train_cols = train_data.columns[1:]\n",
    "    print('train_cols: ', train_cols)\n",
    "    for train_feature in train_cols:\n",
    "        data = train_data.loc[:, ['ards_group', train_feature]]\n",
    "        # ards_dict = {'rapid death': 3, 'long stay': 2, 'spontaneous recovery': 1}\n",
    "        ards_dict = {'rapid death': 1, 'long stay': 0, 'spontaneous recovery': 0}\n",
    "        data['ards_group'] = df['ards_group'].map(lambda x: ards_dict.get(x, None))\n",
    "        print('before drop', data.shape)\n",
    "        data.dropna(inplace=True)\n",
    "        print('after drop', data.shape)\n",
    "        logit = sm.Logit(data['ards_group'], data[train_feature])\n",
    "        result = logit.fit()\n",
    "        result = np.exp(result.params)\n",
    "        # result[train_feature] = str(np.exp(result.params))\n",
    "        # print(np.exp(result.params))\n",
    "        or_list = pd.concat([or_list, result])\n",
    "    return or_list\n",
    "\n",
    "\n",
    "a = get_or_ratio(df)\n",
    "a"
   ],
   "metadata": {
    "collapsed": false,
    "pycharm": {
     "name": "#%%\n"
    }
   }
  },
  {
   "cell_type": "markdown",
   "source": [],
   "metadata": {
    "collapsed": false,
    "pycharm": {
     "name": "#%% md\n"
    }
   }
  },
  {
   "cell_type": "code",
   "execution_count": null,
   "outputs": [],
   "source": [],
   "metadata": {
    "collapsed": false,
    "pycharm": {
     "name": "#%%\n"
    }
   }
  }
 ],
 "metadata": {
  "kernelspec": {
   "display_name": "Python 3",
   "language": "python",
   "name": "python3"
  },
  "language_info": {
   "codemirror_mode": {
    "name": "ipython",
    "version": 2
   },
   "file_extension": ".py",
   "mimetype": "text/x-python",
   "name": "python",
   "nbconvert_exporter": "python",
   "pygments_lexer": "ipython2",
   "version": "2.7.6"
  }
 },
 "nbformat": 4,
 "nbformat_minor": 0
}