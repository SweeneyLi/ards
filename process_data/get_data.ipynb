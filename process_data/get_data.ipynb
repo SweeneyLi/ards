{
 "cells": [
  {
   "cell_type": "code",
   "execution_count": 1,
   "outputs": [],
   "source": [
    "from __future__ import print_function\n",
    "import pandas as pd\n",
    "from utils.postgres_sql import SqlConnector"
   ],
   "metadata": {
    "collapsed": false,
    "pycharm": {
     "name": "#%%\n"
    }
   }
  },
  {
   "cell_type": "code",
   "execution_count": 2,
   "outputs": [],
   "source": [
    "sql_connector = SqlConnector()"
   ],
   "metadata": {
    "collapsed": false,
    "pycharm": {
     "name": "#%%\n"
    }
   }
  },
  {
   "cell_type": "code",
   "execution_count": 4,
   "outputs": [
    {
     "data": {
      "text/plain": "       patientunitstayid\n0                3181349\n1                 351515\n2                1461683\n3                3197402\n4                1652554\n...                  ...\n14721             560047\n14722             232161\n14723            1363922\n14724            1517435\n14725             525969\n\n[14726 rows x 1 columns]",
      "text/html": "<div>\n<style scoped>\n    .dataframe tbody tr th:only-of-type {\n        vertical-align: middle;\n    }\n\n    .dataframe tbody tr th {\n        vertical-align: top;\n    }\n\n    .dataframe thead th {\n        text-align: right;\n    }\n</style>\n<table border=\"1\" class=\"dataframe\">\n  <thead>\n    <tr style=\"text-align: right;\">\n      <th></th>\n      <th>patientunitstayid</th>\n    </tr>\n  </thead>\n  <tbody>\n    <tr>\n      <th>0</th>\n      <td>3181349</td>\n    </tr>\n    <tr>\n      <th>1</th>\n      <td>351515</td>\n    </tr>\n    <tr>\n      <th>2</th>\n      <td>1461683</td>\n    </tr>\n    <tr>\n      <th>3</th>\n      <td>3197402</td>\n    </tr>\n    <tr>\n      <th>4</th>\n      <td>1652554</td>\n    </tr>\n    <tr>\n      <th>...</th>\n      <td>...</td>\n    </tr>\n    <tr>\n      <th>14721</th>\n      <td>560047</td>\n    </tr>\n    <tr>\n      <th>14722</th>\n      <td>232161</td>\n    </tr>\n    <tr>\n      <th>14723</th>\n      <td>1363922</td>\n    </tr>\n    <tr>\n      <th>14724</th>\n      <td>1517435</td>\n    </tr>\n    <tr>\n      <th>14725</th>\n      <td>525969</td>\n    </tr>\n  </tbody>\n</table>\n<p>14726 rows × 1 columns</p>\n</div>"
     },
     "execution_count": 4,
     "metadata": {},
     "output_type": "execute_result"
    }
   ],
   "source": [
    "query = \\\n",
    "\"\"\"\n",
    "select patientunitstayid\n",
    "from ards_data\n",
    "\"\"\"\n",
    "\n",
    "unit_stay_id_list = sql_connector.get_data_by_query(query)\n"
   ],
   "metadata": {
    "collapsed": false,
    "pycharm": {
     "name": "#%%\n"
    }
   }
  },
  {
   "cell_type": "code",
   "execution_count": null,
   "outputs": [],
   "source": [],
   "metadata": {
    "collapsed": false,
    "pycharm": {
     "name": "#%%\n"
    }
   }
  }
 ],
 "metadata": {
  "kernelspec": {
   "display_name": "Python 3",
   "language": "python",
   "name": "python3"
  },
  "language_info": {
   "codemirror_mode": {
    "name": "ipython",
    "version": 2
   },
   "file_extension": ".py",
   "mimetype": "text/x-python",
   "name": "python",
   "nbconvert_exporter": "python",
   "pygments_lexer": "ipython2",
   "version": "2.7.6"
  }
 },
 "nbformat": 4,
 "nbformat_minor": 0
}