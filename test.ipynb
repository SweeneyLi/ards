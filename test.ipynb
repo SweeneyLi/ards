{
 "cells": [
  {
   "cell_type": "code",
   "execution_count": 1,
   "outputs": [],
   "source": [
    "from __future__ import print_function\n",
    "\n",
    "import random\n",
    "\n",
    "import pandas as pd\n",
    "from tqdm import tqdm\n",
    "import numpy as np\n",
    "# from utils.postgres_sql import PostgresSqlConnector"
   ],
   "metadata": {
    "collapsed": false,
    "pycharm": {
     "name": "#%%\n"
    }
   }
  },
  {
   "cell_type": "code",
   "execution_count": 4,
   "outputs": [
    {
     "data": {
      "text/plain": "{1106222, 1506455, 2899662, 3098589}"
     },
     "execution_count": 4,
     "metadata": {},
     "output_type": "execute_result"
    }
   ],
   "source": [
    "# a = pd.read_csv('output/ards_data_dynamic/valid_ards_data_with_dynamic_feature_0_to_500.csv')\n",
    "# base = pd.read_csv('dataset/ards_data/valid_ards_data_with_base_info.csv').loc[:500, :]\n",
    "#\n",
    "# set(base['icu_stay_id']) - set(a['icu_stay_id'])"
   ],
   "metadata": {
    "collapsed": false,
    "pycharm": {
     "name": "#%%\n"
    }
   }
  },
  {
   "cell_type": "code",
   "execution_count": 5,
   "outputs": [
    {
     "name": "stdout",
     "output_type": "stream",
     "text": [
      "There are 8 files\n",
      "   icu_stay_id identification_offset  AST (SGOT)_median  AST (SGOT)_variance  \\\n",
      "0       317857                   635              210.0                  NaN   \n",
      "1      2740390                   595                NaN                  NaN   \n",
      "2       790069                  1886               65.5                  4.5   \n",
      "3       392118                   484               30.0                  NaN   \n",
      "4      1121484                  2768                NaN                  NaN   \n",
      "..         ...                   ...                ...                  ...   \n",
      "66     3064424                   681                NaN                  NaN   \n",
      "67     3203361                   636                NaN                  NaN   \n",
      "68     3180559                   183                NaN                  NaN   \n",
      "69     3080683                  4772                NaN                  NaN   \n",
      "70      517331                   678                NaN                  NaN   \n",
      "\n",
      "    AST (SGOT)_rate_change  albumin_median  albumin_variance  \\\n",
      "0                      0.0             2.7               NaN   \n",
      "1                      NaN             NaN               NaN   \n",
      "2                      3.0             2.3              0.08   \n",
      "3                      0.0             3.3               NaN   \n",
      "4                      NaN             NaN               NaN   \n",
      "..                     ...             ...               ...   \n",
      "66                     NaN             NaN               NaN   \n",
      "67                     NaN             NaN               NaN   \n",
      "68                     NaN             NaN               NaN   \n",
      "69                     NaN             NaN               NaN   \n",
      "70                     NaN             2.3               NaN   \n",
      "\n",
      "    albumin_rate_change  ALP_median  ALP_variance  ...  \\\n",
      "0                   0.0         NaN           NaN  ...   \n",
      "1                   NaN         NaN           NaN  ...   \n",
      "2                   0.4         NaN           NaN  ...   \n",
      "3                   0.0         NaN           NaN  ...   \n",
      "4                   NaN         NaN           NaN  ...   \n",
      "..                  ...         ...           ...  ...   \n",
      "66                  NaN         NaN           NaN  ...   \n",
      "67                  NaN         NaN           NaN  ...   \n",
      "68                  NaN         NaN           NaN  ...   \n",
      "69                  NaN         NaN           NaN  ...   \n",
      "70                  0.0         NaN           NaN  ...   \n",
      "\n",
      "    total bilirubin_rate_change  Total CO2_median  Total CO2_variance  \\\n",
      "0                           0.0               NaN                 NaN   \n",
      "1                           NaN               NaN                 NaN   \n",
      "2                           1.2               NaN                 NaN   \n",
      "3                           0.0               NaN                 NaN   \n",
      "4                           NaN               NaN                 NaN   \n",
      "..                          ...               ...                 ...   \n",
      "66                          NaN               NaN                 NaN   \n",
      "67                          NaN               NaN                 NaN   \n",
      "68                          NaN               NaN                 NaN   \n",
      "69                          NaN              30.0                 NaN   \n",
      "70                          NaN               NaN                 NaN   \n",
      "\n",
      "    Total CO2_rate_change  TV/kg IBW_median  TV/kg IBW_variance  \\\n",
      "0                     NaN          7.445414            0.118312   \n",
      "1                     NaN               NaN                 NaN   \n",
      "2                     NaN          5.826400            0.000000   \n",
      "3                     NaN          8.771900            0.000000   \n",
      "4                     NaN          7.723700            0.055214   \n",
      "..                    ...               ...                 ...   \n",
      "66                    NaN          6.849300            0.000000   \n",
      "67                    NaN          8.672150            0.497327   \n",
      "68                    NaN               NaN                 NaN   \n",
      "69                    0.0          6.785800            0.000000   \n",
      "70                    NaN          7.562200                 NaN   \n",
      "\n",
      "    TV/kg IBW_rate_change  WBC x 1000_median  WBC x 1000_variance  \\\n",
      "0                  0.6435             20.500                  NaN   \n",
      "1                     NaN             11.050              8.40500   \n",
      "2                  0.0000             16.860             13.82800   \n",
      "3                  0.0000             12.500                  NaN   \n",
      "4                  0.4396              9.615              0.00405   \n",
      "..                    ...                ...                  ...   \n",
      "66                 0.0000              8.500                  NaN   \n",
      "67                 2.0897              8.300                  NaN   \n",
      "68                    NaN              9.800                  NaN   \n",
      "69                 0.0000             11.700                  NaN   \n",
      "70                 0.0000              9.850              4.20500   \n",
      "\n",
      "    WBC x 1000_rate_change  \n",
      "0                     0.00  \n",
      "1                     4.10  \n",
      "2                     9.60  \n",
      "3                     0.00  \n",
      "4                     0.09  \n",
      "..                     ...  \n",
      "66                    0.00  \n",
      "67                    0.00  \n",
      "68                    0.00  \n",
      "69                    0.00  \n",
      "70                    2.90  \n",
      "\n",
      "[500 rows x 176 columns]\n",
      "Index(['icu_stay_id', 'identification_offset', 'AST (SGOT)_median',\n",
      "       'AST (SGOT)_variance', 'AST (SGOT)_rate_change', 'albumin_median',\n",
      "       'albumin_variance', 'albumin_rate_change', 'ALP_median', 'ALP_variance',\n",
      "       ...\n",
      "       'total bilirubin_rate_change', 'Total CO2_median', 'Total CO2_variance',\n",
      "       'Total CO2_rate_change', 'TV/kg IBW_median', 'TV/kg IBW_variance',\n",
      "       'TV/kg IBW_rate_change', 'WBC x 1000_median', 'WBC x 1000_variance',\n",
      "       'WBC x 1000_rate_change'],\n",
      "      dtype='object', length=176)\n",
      "end\n"
     ]
    }
   ],
   "source": [
    "from utils.common import combine_csvs\n",
    "\n",
    "combine_csvs('/Users/sweeney/WorkSpace/ards/output/ards_data_dynamic', 'valid_ards_data_with_dynamic_feature_0_to_500.csv')\n",
    "print('end')"
   ],
   "metadata": {
    "collapsed": false,
    "pycharm": {
     "name": "#%%\n"
    }
   }
  }
 ],
 "metadata": {
  "kernelspec": {
   "display_name": "Python 3",
   "language": "python",
   "name": "python3"
  },
  "language_info": {
   "codemirror_mode": {
    "name": "ipython",
    "version": 2
   },
   "file_extension": ".py",
   "mimetype": "text/x-python",
   "name": "python",
   "nbconvert_exporter": "python",
   "pygments_lexer": "ipython2",
   "version": "2.7.6"
  }
 },
 "nbformat": 4,
 "nbformat_minor": 0
}