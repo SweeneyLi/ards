{
 "cells": [
  {
   "cell_type": "code",
   "execution_count": 2,
   "outputs": [],
   "source": [
    "from __future__ import print_function\n",
    "import pandas as pd\n",
    "import numpy as np\n",
    "from utils.postgres_sql import PostgresSqlConnector"
   ],
   "metadata": {
    "collapsed": false,
    "pycharm": {
     "name": "#%%\n"
    }
   }
  },
  {
   "cell_type": "code",
   "execution_count": 3,
   "outputs": [],
   "source": [
    "sql_connector = PostgresSqlConnector()"
   ],
   "metadata": {
    "collapsed": false,
    "pycharm": {
     "name": "#%%\n"
    }
   }
  },
  {
   "cell_type": "code",
   "execution_count": 4,
   "outputs": [
    {
     "data": {
      "text/plain": "     icu_stay_id  identification_offset\n0         351515                   1771\n1        1461683                    737\n2        3197402                    326\n3        1652554                    586\n4         554884                    594\n..           ...                    ...\n668       482078                    704\n669      1514366                    798\n670      2296557                    541\n671       914123                    722\n672      1716284                    556\n\n[10468 rows x 2 columns]",
      "text/html": "<div>\n<style scoped>\n    .dataframe tbody tr th:only-of-type {\n        vertical-align: middle;\n    }\n\n    .dataframe tbody tr th {\n        vertical-align: top;\n    }\n\n    .dataframe thead th {\n        text-align: right;\n    }\n</style>\n<table border=\"1\" class=\"dataframe\">\n  <thead>\n    <tr style=\"text-align: right;\">\n      <th></th>\n      <th>icu_stay_id</th>\n      <th>identification_offset</th>\n    </tr>\n  </thead>\n  <tbody>\n    <tr>\n      <th>0</th>\n      <td>351515</td>\n      <td>1771</td>\n    </tr>\n    <tr>\n      <th>1</th>\n      <td>1461683</td>\n      <td>737</td>\n    </tr>\n    <tr>\n      <th>2</th>\n      <td>3197402</td>\n      <td>326</td>\n    </tr>\n    <tr>\n      <th>3</th>\n      <td>1652554</td>\n      <td>586</td>\n    </tr>\n    <tr>\n      <th>4</th>\n      <td>554884</td>\n      <td>594</td>\n    </tr>\n    <tr>\n      <th>...</th>\n      <td>...</td>\n      <td>...</td>\n    </tr>\n    <tr>\n      <th>668</th>\n      <td>482078</td>\n      <td>704</td>\n    </tr>\n    <tr>\n      <th>669</th>\n      <td>1514366</td>\n      <td>798</td>\n    </tr>\n    <tr>\n      <th>670</th>\n      <td>2296557</td>\n      <td>541</td>\n    </tr>\n    <tr>\n      <th>671</th>\n      <td>914123</td>\n      <td>722</td>\n    </tr>\n    <tr>\n      <th>672</th>\n      <td>1716284</td>\n      <td>556</td>\n    </tr>\n  </tbody>\n</table>\n<p>10468 rows × 2 columns</p>\n</div>"
     },
     "execution_count": 4,
     "metadata": {},
     "output_type": "execute_result"
    }
   ],
   "source": [
    "base_ards_ids_path = 'dataset/base_ards_data_and_identification_offset.csv'\n",
    "base_ards_data = pd.read_csv(base_ards_ids_path, index_col=0)\n",
    "base_ards_data"
   ],
   "metadata": {
    "collapsed": false,
    "pycharm": {
     "name": "#%%\n"
    }
   }
  },
  {
   "cell_type": "code",
   "execution_count": 67,
   "outputs": [
    {
     "data": {
      "text/plain": "       icu_stay_id  identification_offset   uniquepid  unitdischargeoffset  \\\n0           351515                   1771   004-15269                45739   \n1          1461683                    737   015-14011                 4904   \n2          3197402                    326    032-5881                 2855   \n3          1652554                    586   017-61172                 2181   \n4           554884                    594  006-188102                 1638   \n...            ...                    ...         ...                  ...   \n10463       482078                    704   005-79351                 2748   \n10464      1514366                    798   015-55944                 6924   \n10465      2296557                    541  022-104717                 5344   \n10466       914123                    722   006-12067                14250   \n10467      1716284                    556    017-9891                 3269   \n\n      unitdischargestatus  hospitaldischargeoffset hospitaldischargestatus  \n0                   Alive                    45739                   Alive  \n1                   Alive                     4904                   Alive  \n2                   Alive                     6684                   Alive  \n3                   Alive                     2249                 Expired  \n4                 Expired                     1638                 Expired  \n...                   ...                      ...                     ...  \n10463               Alive                    19080                   Alive  \n10464               Alive                     7061                 Expired  \n10465               Alive                     9686                   Alive  \n10466               Alive                    14250                   Alive  \n10467             Expired                     3269                 Expired  \n\n[9399 rows x 7 columns]",
      "text/html": "<div>\n<style scoped>\n    .dataframe tbody tr th:only-of-type {\n        vertical-align: middle;\n    }\n\n    .dataframe tbody tr th {\n        vertical-align: top;\n    }\n\n    .dataframe thead th {\n        text-align: right;\n    }\n</style>\n<table border=\"1\" class=\"dataframe\">\n  <thead>\n    <tr style=\"text-align: right;\">\n      <th></th>\n      <th>icu_stay_id</th>\n      <th>identification_offset</th>\n      <th>uniquepid</th>\n      <th>unitdischargeoffset</th>\n      <th>unitdischargestatus</th>\n      <th>hospitaldischargeoffset</th>\n      <th>hospitaldischargestatus</th>\n    </tr>\n  </thead>\n  <tbody>\n    <tr>\n      <th>0</th>\n      <td>351515</td>\n      <td>1771</td>\n      <td>004-15269</td>\n      <td>45739</td>\n      <td>Alive</td>\n      <td>45739</td>\n      <td>Alive</td>\n    </tr>\n    <tr>\n      <th>1</th>\n      <td>1461683</td>\n      <td>737</td>\n      <td>015-14011</td>\n      <td>4904</td>\n      <td>Alive</td>\n      <td>4904</td>\n      <td>Alive</td>\n    </tr>\n    <tr>\n      <th>2</th>\n      <td>3197402</td>\n      <td>326</td>\n      <td>032-5881</td>\n      <td>2855</td>\n      <td>Alive</td>\n      <td>6684</td>\n      <td>Alive</td>\n    </tr>\n    <tr>\n      <th>3</th>\n      <td>1652554</td>\n      <td>586</td>\n      <td>017-61172</td>\n      <td>2181</td>\n      <td>Alive</td>\n      <td>2249</td>\n      <td>Expired</td>\n    </tr>\n    <tr>\n      <th>4</th>\n      <td>554884</td>\n      <td>594</td>\n      <td>006-188102</td>\n      <td>1638</td>\n      <td>Expired</td>\n      <td>1638</td>\n      <td>Expired</td>\n    </tr>\n    <tr>\n      <th>...</th>\n      <td>...</td>\n      <td>...</td>\n      <td>...</td>\n      <td>...</td>\n      <td>...</td>\n      <td>...</td>\n      <td>...</td>\n    </tr>\n    <tr>\n      <th>10463</th>\n      <td>482078</td>\n      <td>704</td>\n      <td>005-79351</td>\n      <td>2748</td>\n      <td>Alive</td>\n      <td>19080</td>\n      <td>Alive</td>\n    </tr>\n    <tr>\n      <th>10464</th>\n      <td>1514366</td>\n      <td>798</td>\n      <td>015-55944</td>\n      <td>6924</td>\n      <td>Alive</td>\n      <td>7061</td>\n      <td>Expired</td>\n    </tr>\n    <tr>\n      <th>10465</th>\n      <td>2296557</td>\n      <td>541</td>\n      <td>022-104717</td>\n      <td>5344</td>\n      <td>Alive</td>\n      <td>9686</td>\n      <td>Alive</td>\n    </tr>\n    <tr>\n      <th>10466</th>\n      <td>914123</td>\n      <td>722</td>\n      <td>006-12067</td>\n      <td>14250</td>\n      <td>Alive</td>\n      <td>14250</td>\n      <td>Alive</td>\n    </tr>\n    <tr>\n      <th>10467</th>\n      <td>1716284</td>\n      <td>556</td>\n      <td>017-9891</td>\n      <td>3269</td>\n      <td>Expired</td>\n      <td>3269</td>\n      <td>Expired</td>\n    </tr>\n  </tbody>\n</table>\n<p>9399 rows × 7 columns</p>\n</div>"
     },
     "execution_count": 67,
     "metadata": {},
     "output_type": "execute_result"
    }
   ],
   "source": [
    "query = \\\n",
    "\"\"\"\n",
    "select ards_data.patientunitstayid as icu_stay_id, uniquepid, unitdischargeoffset, unitdischargestatus, hospitaldischargeoffset, hospitaldischargestatus\n",
    "from ards_data\n",
    "left join patient p on ards_data.patientunitstayid = p.patientunitstayid\n",
    "\"\"\"\n",
    "ards_data = sql_connector.get_data_by_query(query)\n",
    "ards_data = pd.merge(base_ards_data, ards_data, on='icu_stay_id')\n",
    "ards_data.drop(ards_data[ards_data['unitdischargestatus'] == ''].index, inplace=True)\n",
    "ards_data.drop(ards_data[(ards_data['unitdischargestatus'] == 'Alive') & (ards_data['hospitaldischargestatus'] == '')].index, inplace=True)\n",
    "ards_data.sort_values(['uniquepid', 'unitdischargeoffset'], ascending=False)\n",
    "ards_data.drop_duplicates('uniquepid', keep='first', inplace=True)\n",
    "\n",
    "ards_data"
   ],
   "metadata": {
    "collapsed": false,
    "pycharm": {
     "name": "#%%\n"
    }
   }
  },
  {
   "cell_type": "code",
   "execution_count": 70,
   "outputs": [],
   "source": [
    "valid_base_data_path = 'dataset/valid_base_ards_data.csv'\n",
    "ards_data.loc[:, ['icu_stay_id', 'identification_offset', 'uniquepid']].to_csv(valid_base_data_path, index=False)"
   ],
   "metadata": {
    "collapsed": false,
    "pycharm": {
     "name": "#%%\n"
    }
   }
  },
  {
   "cell_type": "code",
   "execution_count": 71,
   "outputs": [
    {
     "data": {
      "text/plain": "    icu_stay_id  identification_offset  28d_death_status  \\\n0       1716284                    556              True   \n0       3061659                   7806              True   \n0       1481873                    397             False   \n0        919655                    551             False   \n0        960449                    503             False   \n..          ...                    ...               ...   \n0        461302                   1252              True   \n0       3217827                    623             False   \n0        739487                   4881             False   \n0       2675046                   4961              True   \n0        655330                    731             False   \n\n              ards_group  pf_8h_min              admission_diagnosis  gender  \\\n0              long stay   2.200000                            Other    Male   \n0              long stay        NaN                            Other  Female   \n0   spontaneous recovery   3.975000                            Other  Female   \n0              long stay   1.425000                            Other  Female   \n0              long stay        NaN                        Pneumonia  Female   \n..                   ...        ...                              ...     ...   \n0   spontaneous recovery        NaN  Cerebrovascular Accident/Stroke    Male   \n0              long stay   2.266667              Asthma or Emphysema    Male   \n0              long stay   1.300000      Respiratory (Medical/Other)    Male   \n0              long stay        NaN              Asthma or Emphysema  Female   \n0   spontaneous recovery   1.075000      Respiratory (Medical/Other)  Female   \n\n     age                                  apacheadmissiondx  admissionheight  \\\n0     50  Cardiac arrest (with or without respiratory ar...            178.0   \n0     55                      CHF, congestive heart failure            160.0   \n0     67  Cardiac arrest (with or without respiratory ar...            157.0   \n0     67                      CHF, congestive heart failure            150.0   \n0     65                               Pneumonia, bacterial            162.6   \n..   ...                                                ...              ...   \n0     58               CVA, cerebrovascular accident/stroke            162.6   \n0     54                               Emphysema/bronchitis            177.8   \n0     75                                 Embolus, pulmonary            177.8   \n0     67                               Emphysema/bronchitis            167.6   \n0   > 89                                 Effusions, pleural            152.0   \n\n    ...  vasopressor_indicator dobutamine_indicator  dopamine_indicator  \\\n0   ...                      0                    0                   0   \n0   ...                      0                    0                   0   \n0   ...                      0                    0                   0   \n0   ...                      0                    0                   0   \n0   ...                      0                    0                   0   \n..  ...                    ...                  ...                 ...   \n0   ...                      0                    0                   0   \n0   ...                      0                    0                   0   \n0   ...                      0                    0                   0   \n0   ...                      0                    0                   0   \n0   ...                      0                    0                   0   \n\n   epinephrine_indicator  norepinephrine_indicator phenylephrine_indicator  \\\n0                      0                         0                       0   \n0                      0                         0                       0   \n0                      0                         0                       0   \n0                      0                         0                       0   \n0                      0                         0                       0   \n..                   ...                       ...                     ...   \n0                      0                         0                       0   \n0                      0                         0                       0   \n0                      0                         0                       0   \n0                      0                         0                       0   \n0                      0                         0                       0   \n\n    vasopressin_indicator  warfarin_indicator  heparin_indicator  \\\n0                       0                   0                  0   \n0                       0                   0                  0   \n0                       0                   0                  0   \n0                       0                   0                  0   \n0                       0                   0                  0   \n..                    ...                 ...                ...   \n0                       0                   0                  0   \n0                       0                   0                  0   \n0                       0                   0                  0   \n0                       0                   0                  0   \n0                       0                   0                  0   \n\n    milrinone_indicator  \n0                     0  \n0                     0  \n0                     0  \n0                     0  \n0                     0  \n..                  ...  \n0                     0  \n0                     0  \n0                     0  \n0                     0  \n0                     0  \n\n[10468 rows x 27 columns]",
      "text/html": "<div>\n<style scoped>\n    .dataframe tbody tr th:only-of-type {\n        vertical-align: middle;\n    }\n\n    .dataframe tbody tr th {\n        vertical-align: top;\n    }\n\n    .dataframe thead th {\n        text-align: right;\n    }\n</style>\n<table border=\"1\" class=\"dataframe\">\n  <thead>\n    <tr style=\"text-align: right;\">\n      <th></th>\n      <th>icu_stay_id</th>\n      <th>identification_offset</th>\n      <th>28d_death_status</th>\n      <th>ards_group</th>\n      <th>pf_8h_min</th>\n      <th>admission_diagnosis</th>\n      <th>gender</th>\n      <th>age</th>\n      <th>apacheadmissiondx</th>\n      <th>admissionheight</th>\n      <th>...</th>\n      <th>vasopressor_indicator</th>\n      <th>dobutamine_indicator</th>\n      <th>dopamine_indicator</th>\n      <th>epinephrine_indicator</th>\n      <th>norepinephrine_indicator</th>\n      <th>phenylephrine_indicator</th>\n      <th>vasopressin_indicator</th>\n      <th>warfarin_indicator</th>\n      <th>heparin_indicator</th>\n      <th>milrinone_indicator</th>\n    </tr>\n  </thead>\n  <tbody>\n    <tr>\n      <th>0</th>\n      <td>1716284</td>\n      <td>556</td>\n      <td>True</td>\n      <td>long stay</td>\n      <td>2.200000</td>\n      <td>Other</td>\n      <td>Male</td>\n      <td>50</td>\n      <td>Cardiac arrest (with or without respiratory ar...</td>\n      <td>178.0</td>\n      <td>...</td>\n      <td>0</td>\n      <td>0</td>\n      <td>0</td>\n      <td>0</td>\n      <td>0</td>\n      <td>0</td>\n      <td>0</td>\n      <td>0</td>\n      <td>0</td>\n      <td>0</td>\n    </tr>\n    <tr>\n      <th>0</th>\n      <td>3061659</td>\n      <td>7806</td>\n      <td>True</td>\n      <td>long stay</td>\n      <td>NaN</td>\n      <td>Other</td>\n      <td>Female</td>\n      <td>55</td>\n      <td>CHF, congestive heart failure</td>\n      <td>160.0</td>\n      <td>...</td>\n      <td>0</td>\n      <td>0</td>\n      <td>0</td>\n      <td>0</td>\n      <td>0</td>\n      <td>0</td>\n      <td>0</td>\n      <td>0</td>\n      <td>0</td>\n      <td>0</td>\n    </tr>\n    <tr>\n      <th>0</th>\n      <td>1481873</td>\n      <td>397</td>\n      <td>False</td>\n      <td>spontaneous recovery</td>\n      <td>3.975000</td>\n      <td>Other</td>\n      <td>Female</td>\n      <td>67</td>\n      <td>Cardiac arrest (with or without respiratory ar...</td>\n      <td>157.0</td>\n      <td>...</td>\n      <td>0</td>\n      <td>0</td>\n      <td>0</td>\n      <td>0</td>\n      <td>0</td>\n      <td>0</td>\n      <td>0</td>\n      <td>0</td>\n      <td>0</td>\n      <td>0</td>\n    </tr>\n    <tr>\n      <th>0</th>\n      <td>919655</td>\n      <td>551</td>\n      <td>False</td>\n      <td>long stay</td>\n      <td>1.425000</td>\n      <td>Other</td>\n      <td>Female</td>\n      <td>67</td>\n      <td>CHF, congestive heart failure</td>\n      <td>150.0</td>\n      <td>...</td>\n      <td>0</td>\n      <td>0</td>\n      <td>0</td>\n      <td>0</td>\n      <td>0</td>\n      <td>0</td>\n      <td>0</td>\n      <td>0</td>\n      <td>0</td>\n      <td>0</td>\n    </tr>\n    <tr>\n      <th>0</th>\n      <td>960449</td>\n      <td>503</td>\n      <td>False</td>\n      <td>long stay</td>\n      <td>NaN</td>\n      <td>Pneumonia</td>\n      <td>Female</td>\n      <td>65</td>\n      <td>Pneumonia, bacterial</td>\n      <td>162.6</td>\n      <td>...</td>\n      <td>0</td>\n      <td>0</td>\n      <td>0</td>\n      <td>0</td>\n      <td>0</td>\n      <td>0</td>\n      <td>0</td>\n      <td>0</td>\n      <td>0</td>\n      <td>0</td>\n    </tr>\n    <tr>\n      <th>...</th>\n      <td>...</td>\n      <td>...</td>\n      <td>...</td>\n      <td>...</td>\n      <td>...</td>\n      <td>...</td>\n      <td>...</td>\n      <td>...</td>\n      <td>...</td>\n      <td>...</td>\n      <td>...</td>\n      <td>...</td>\n      <td>...</td>\n      <td>...</td>\n      <td>...</td>\n      <td>...</td>\n      <td>...</td>\n      <td>...</td>\n      <td>...</td>\n      <td>...</td>\n      <td>...</td>\n    </tr>\n    <tr>\n      <th>0</th>\n      <td>461302</td>\n      <td>1252</td>\n      <td>True</td>\n      <td>spontaneous recovery</td>\n      <td>NaN</td>\n      <td>Cerebrovascular Accident/Stroke</td>\n      <td>Male</td>\n      <td>58</td>\n      <td>CVA, cerebrovascular accident/stroke</td>\n      <td>162.6</td>\n      <td>...</td>\n      <td>0</td>\n      <td>0</td>\n      <td>0</td>\n      <td>0</td>\n      <td>0</td>\n      <td>0</td>\n      <td>0</td>\n      <td>0</td>\n      <td>0</td>\n      <td>0</td>\n    </tr>\n    <tr>\n      <th>0</th>\n      <td>3217827</td>\n      <td>623</td>\n      <td>False</td>\n      <td>long stay</td>\n      <td>2.266667</td>\n      <td>Asthma or Emphysema</td>\n      <td>Male</td>\n      <td>54</td>\n      <td>Emphysema/bronchitis</td>\n      <td>177.8</td>\n      <td>...</td>\n      <td>0</td>\n      <td>0</td>\n      <td>0</td>\n      <td>0</td>\n      <td>0</td>\n      <td>0</td>\n      <td>0</td>\n      <td>0</td>\n      <td>0</td>\n      <td>0</td>\n    </tr>\n    <tr>\n      <th>0</th>\n      <td>739487</td>\n      <td>4881</td>\n      <td>False</td>\n      <td>long stay</td>\n      <td>1.300000</td>\n      <td>Respiratory (Medical/Other)</td>\n      <td>Male</td>\n      <td>75</td>\n      <td>Embolus, pulmonary</td>\n      <td>177.8</td>\n      <td>...</td>\n      <td>0</td>\n      <td>0</td>\n      <td>0</td>\n      <td>0</td>\n      <td>0</td>\n      <td>0</td>\n      <td>0</td>\n      <td>0</td>\n      <td>0</td>\n      <td>0</td>\n    </tr>\n    <tr>\n      <th>0</th>\n      <td>2675046</td>\n      <td>4961</td>\n      <td>True</td>\n      <td>long stay</td>\n      <td>NaN</td>\n      <td>Asthma or Emphysema</td>\n      <td>Female</td>\n      <td>67</td>\n      <td>Emphysema/bronchitis</td>\n      <td>167.6</td>\n      <td>...</td>\n      <td>0</td>\n      <td>0</td>\n      <td>0</td>\n      <td>0</td>\n      <td>0</td>\n      <td>0</td>\n      <td>0</td>\n      <td>0</td>\n      <td>0</td>\n      <td>0</td>\n    </tr>\n    <tr>\n      <th>0</th>\n      <td>655330</td>\n      <td>731</td>\n      <td>False</td>\n      <td>spontaneous recovery</td>\n      <td>1.075000</td>\n      <td>Respiratory (Medical/Other)</td>\n      <td>Female</td>\n      <td>&gt; 89</td>\n      <td>Effusions, pleural</td>\n      <td>152.0</td>\n      <td>...</td>\n      <td>0</td>\n      <td>0</td>\n      <td>0</td>\n      <td>0</td>\n      <td>0</td>\n      <td>0</td>\n      <td>0</td>\n      <td>0</td>\n      <td>0</td>\n      <td>0</td>\n    </tr>\n  </tbody>\n</table>\n<p>10468 rows × 27 columns</p>\n</div>"
     },
     "execution_count": 71,
     "metadata": {},
     "output_type": "execute_result"
    }
   ],
   "source": [
    "base_data_path = 'dataset/ards_data_with_static_feature.csv'\n",
    "ards_static_feature = pd.read_csv(base_data_path, index_col=0)\n",
    "ards_static_feature"
   ],
   "metadata": {
    "collapsed": false,
    "pycharm": {
     "name": "#%%\n"
    }
   }
  },
  {
   "cell_type": "code",
   "execution_count": 77,
   "outputs": [],
   "source": [
    "temp = ards_data.loc[:, ['icu_stay_id', 'uniquepid']]"
   ],
   "metadata": {
    "collapsed": false,
    "pycharm": {
     "name": "#%%\n"
    }
   }
  },
  {
   "cell_type": "code",
   "execution_count": 79,
   "outputs": [],
   "source": [
    "valid_ards_data_static_feature_path = 'dataset/valid_ards_data_with_static_feature.csv'\n",
    "pd.merge(temp,ards_static_feature, on='icu_stay_id').to_csv(valid_ards_data_static_feature_path, index=False)"
   ],
   "metadata": {
    "collapsed": false,
    "pycharm": {
     "name": "#%%\n"
    }
   }
  },
  {
   "cell_type": "code",
   "execution_count": null,
   "outputs": [],
   "source": [],
   "metadata": {
    "collapsed": false,
    "pycharm": {
     "name": "#%%\n"
    }
   }
  }
 ],
 "metadata": {
  "kernelspec": {
   "display_name": "Python 3",
   "language": "python",
   "name": "python3"
  },
  "language_info": {
   "codemirror_mode": {
    "name": "ipython",
    "version": 2
   },
   "file_extension": ".py",
   "mimetype": "text/x-python",
   "name": "python",
   "nbconvert_exporter": "python",
   "pygments_lexer": "ipython2",
   "version": "2.7.6"
  }
 },
 "nbformat": 4,
 "nbformat_minor": 0
}