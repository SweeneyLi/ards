{
 "cells": [
  {
   "cell_type": "code",
   "execution_count": 1,
   "outputs": [],
   "source": [
    "from __future__ import print_function\n",
    "\n",
    "import random\n",
    "\n",
    "import pandas as pd\n",
    "from tqdm import tqdm\n",
    "import numpy as np"
   ],
   "metadata": {
    "collapsed": false,
    "pycharm": {
     "name": "#%%\n"
    }
   }
  },
  {
   "cell_type": "code",
   "execution_count": 3,
   "outputs": [
    {
     "name": "stdout",
     "output_type": "stream",
     "text": [
      "There are 2 files\n",
      "     icu_stay_id identification_offset  AST (SGOT)_median  \\\n",
      "0         392433                  4687                NaN   \n",
      "1         216421                  1641              194.0   \n",
      "2         364289                  1357                NaN   \n",
      "3        3335357                   459                NaN   \n",
      "4         948534                  1155               31.0   \n",
      "...          ...                   ...                ...   \n",
      "4995     1506026                  1099               59.0   \n",
      "4996     1704142                   766                NaN   \n",
      "4997     2851257                   228              108.0   \n",
      "4998     2716534                  3488              239.0   \n",
      "4999      601385                   334                NaN   \n",
      "\n",
      "      AST (SGOT)_variance  AST (SGOT)_rate_change  albumin_median  \\\n",
      "0                     NaN                     NaN             NaN   \n",
      "1                     NaN                     0.0             2.1   \n",
      "2                     NaN                     NaN             NaN   \n",
      "3                     NaN                     NaN             NaN   \n",
      "4                     NaN                     0.0             3.0   \n",
      "...                   ...                     ...             ...   \n",
      "4995                  NaN                     0.0             1.2   \n",
      "4996                  NaN                     NaN             NaN   \n",
      "4997                  NaN                     0.0             1.7   \n",
      "4998                  NaN                     0.0             2.8   \n",
      "4999                  NaN                     NaN             2.7   \n",
      "\n",
      "      albumin_variance  albumin_rate_change  ALP_median  ALP_variance  ...  \\\n",
      "0                  NaN                  NaN         NaN           NaN  ...   \n",
      "1                  NaN                  0.0         NaN           NaN  ...   \n",
      "2                  NaN                  NaN         NaN           NaN  ...   \n",
      "3                  NaN                  NaN         NaN           NaN  ...   \n",
      "4                  NaN                  0.0         NaN           NaN  ...   \n",
      "...                ...                  ...         ...           ...  ...   \n",
      "4995               NaN                  0.0         NaN           NaN  ...   \n",
      "4996               NaN                  NaN         NaN           NaN  ...   \n",
      "4997               NaN                  0.0         NaN           NaN  ...   \n",
      "4998               NaN                  0.0         NaN           NaN  ...   \n",
      "4999               NaN                  0.0         NaN           NaN  ...   \n",
      "\n",
      "      total bilirubin_rate_change  Total CO2_median  Total CO2_variance  \\\n",
      "0                             NaN               NaN                 NaN   \n",
      "1                             0.0              27.0                 NaN   \n",
      "2                             NaN               NaN                 NaN   \n",
      "3                             NaN               NaN                 NaN   \n",
      "4                             0.0               NaN                 NaN   \n",
      "...                           ...               ...                 ...   \n",
      "4995                          0.0               NaN                 NaN   \n",
      "4996                          NaN               NaN                 NaN   \n",
      "4997                          0.0               NaN                 NaN   \n",
      "4998                          0.0               NaN                 NaN   \n",
      "4999                          0.0               NaN                 NaN   \n",
      "\n",
      "      Total CO2_rate_change  TV/kg IBW_median  TV/kg IBW_variance  \\\n",
      "0                       NaN            6.8493             0.00000   \n",
      "1                       0.0            7.8414             0.05988   \n",
      "2                       NaN               NaN                 NaN   \n",
      "3                       NaN               NaN                 NaN   \n",
      "4                       NaN            9.2263             0.00000   \n",
      "...                     ...               ...                 ...   \n",
      "4995                    NaN          500.0000             0.00000   \n",
      "4996                    NaN               NaN                 NaN   \n",
      "4997                    NaN            9.8246             0.00000   \n",
      "4998                    NaN            7.7301             0.00000   \n",
      "4999                    NaN            8.1988             0.00000   \n",
      "\n",
      "      TV/kg IBW_rate_change  WBC x 1000_median  WBC x 1000_variance  \\\n",
      "0                    0.0000               8.00                  NaN   \n",
      "1                    0.5994               9.70                  NaN   \n",
      "2                       NaN               7.70             0.080000   \n",
      "3                       NaN              21.90                  NaN   \n",
      "4                    0.0000              19.10                  NaN   \n",
      "...                     ...                ...                  ...   \n",
      "4995                 0.0000              16.40                  NaN   \n",
      "4996                    NaN               6.53                  NaN   \n",
      "4997                 0.0000               5.00             1.315833   \n",
      "4998                 0.0000              12.80                  NaN   \n",
      "4999                 0.0000              12.20                  NaN   \n",
      "\n",
      "      WBC x 1000_rate_change  \n",
      "0                        0.0  \n",
      "1                        0.0  \n",
      "2                        0.4  \n",
      "3                        0.0  \n",
      "4                        0.0  \n",
      "...                      ...  \n",
      "4995                     0.0  \n",
      "4996                     0.0  \n",
      "4997                     2.7  \n",
      "4998                     0.0  \n",
      "4999                     0.0  \n",
      "\n",
      "[9399 rows x 176 columns]\n",
      "Index(['icu_stay_id', 'identification_offset', 'AST (SGOT)_median',\n",
      "       'AST (SGOT)_variance', 'AST (SGOT)_rate_change', 'albumin_median',\n",
      "       'albumin_variance', 'albumin_rate_change', 'ALP_median', 'ALP_variance',\n",
      "       ...\n",
      "       'total bilirubin_rate_change', 'Total CO2_median', 'Total CO2_variance',\n",
      "       'Total CO2_rate_change', 'TV/kg IBW_median', 'TV/kg IBW_variance',\n",
      "       'TV/kg IBW_rate_change', 'WBC x 1000_median', 'WBC x 1000_variance',\n",
      "       'WBC x 1000_rate_change'],\n",
      "      dtype='object', length=176)\n",
      "end\n"
     ]
    }
   ],
   "source": [
    "from utils.common import combine_csvs\n",
    "\n",
    "combine_csvs('output/ards_data_dynamic', 'valid_ards_data_with_dynamic_feature_9399.csv')\n",
    "print('end')"
   ],
   "metadata": {
    "collapsed": false,
    "pycharm": {
     "name": "#%%\n"
    }
   }
  },
  {
   "cell_type": "code",
   "execution_count": 47,
   "outputs": [],
   "source": [],
   "metadata": {
    "collapsed": false,
    "pycharm": {
     "name": "#%%\n"
    }
   }
  },
  {
   "cell_type": "code",
   "execution_count": 51,
   "outputs": [
    {
     "data": {
      "text/plain": "0         NaN\n1         NaN\n2         NaN\n3         NaN\n4         NaN\n        ...  \n9394    27.40\n9395     8.29\n9396      NaN\n9397      NaN\n9398      NaN\nName: P/F ratio_rate_change, Length: 9399, dtype: float64"
     },
     "execution_count": 51,
     "metadata": {},
     "output_type": "execute_result"
    }
   ],
   "source": [
    "df = pd.read_csv('dataset/figure_data/fig4_data.csv')\n",
    "df['P/F ratio_rate_change']"
   ],
   "metadata": {
    "collapsed": false,
    "pycharm": {
     "name": "#%%\n"
    }
   }
  },
  {
   "cell_type": "code",
   "execution_count": 35,
   "outputs": [
    {
     "data": {
      "text/plain": "1.0     1812\n2.0     1469\n0.0      880\n3.0      767\n4.0      305\n5.0       64\n6.0        6\n12.0       2\n7.0        2\n13.0       1\n8.0        1\n15.0       1\n16.0       1\nName: pf_8h_min, dtype: int64"
     },
     "execution_count": 35,
     "metadata": {},
     "output_type": "execute_result"
    }
   ],
   "source": [
    "# a = df.loc[:, 'pf_8h_min']\n",
    "df['pf_8h_min'] = df['pf_8h_min'].map(lambda x: np.floor(x))\n",
    "df['pf_8h_min'].value_counts()"
   ],
   "metadata": {
    "collapsed": false,
    "pycharm": {
     "name": "#%%\n"
    }
   }
  },
  {
   "cell_type": "code",
   "execution_count": null,
   "outputs": [],
   "source": [],
   "metadata": {
    "collapsed": false,
    "pycharm": {
     "name": "#%%\n"
    }
   }
  },
  {
   "cell_type": "code",
   "execution_count": 17,
   "outputs": [],
   "source": [
    "from utils.postgres_sql import PostgresSqlConnector\n",
    "\n",
    "test_icu_stay_id = 1502830\n",
    "start_offset = 666\n",
    "end_offset = start_offset + 24 * 60\n",
    "sql_connector = PostgresSqlConnector()"
   ],
   "metadata": {
    "collapsed": false,
    "pycharm": {
     "name": "#%%\n"
    }
   }
  },
  {
   "cell_type": "code",
   "execution_count": 19,
   "outputs": [
    {
     "data": {
      "text/plain": "   time_offset label  value\n0          666  paO2   30.0\n1          666  FiO2  100.0",
      "text/html": "<div>\n<style scoped>\n    .dataframe tbody tr th:only-of-type {\n        vertical-align: middle;\n    }\n\n    .dataframe tbody tr th {\n        vertical-align: top;\n    }\n\n    .dataframe thead th {\n        text-align: right;\n    }\n</style>\n<table border=\"1\" class=\"dataframe\">\n  <thead>\n    <tr style=\"text-align: right;\">\n      <th></th>\n      <th>time_offset</th>\n      <th>label</th>\n      <th>value</th>\n    </tr>\n  </thead>\n  <tbody>\n    <tr>\n      <th>0</th>\n      <td>666</td>\n      <td>paO2</td>\n      <td>30.0</td>\n    </tr>\n    <tr>\n      <th>1</th>\n      <td>666</td>\n      <td>FiO2</td>\n      <td>100.0</td>\n    </tr>\n  </tbody>\n</table>\n</div>"
     },
     "execution_count": 19,
     "metadata": {},
     "output_type": "execute_result"
    }
   ],
   "source": [
    "sql_connector.get_pao2_fio2_in_first_8h_after_ards_identification(\n",
    "test_icu_stay_id, start_offset\n",
    ")"
   ],
   "metadata": {
    "collapsed": false,
    "pycharm": {
     "name": "#%%\n"
    }
   }
  },
  {
   "cell_type": "code",
   "execution_count": null,
   "outputs": [],
   "source": [],
   "metadata": {
    "collapsed": false,
    "pycharm": {
     "name": "#%%\n"
    }
   }
  }
 ],
 "metadata": {
  "kernelspec": {
   "display_name": "Python 3",
   "language": "python",
   "name": "python3"
  },
  "language_info": {
   "codemirror_mode": {
    "name": "ipython",
    "version": 2
   },
   "file_extension": ".py",
   "mimetype": "text/x-python",
   "name": "python",
   "nbconvert_exporter": "python",
   "pygments_lexer": "ipython2",
   "version": "2.7.6"
  }
 },
 "nbformat": 4,
 "nbformat_minor": 0
}