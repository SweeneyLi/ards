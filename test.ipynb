{
 "cells": [
  {
   "cell_type": "code",
   "execution_count": 1,
   "outputs": [],
   "source": [
    "from __future__ import print_function\n",
    "\n",
    "import random\n",
    "\n",
    "import pandas as pd\n",
    "from tqdm import tqdm\n",
    "import numpy as np\n",
    "# from utils.postgres_sql import PostgresSqlConnector"
   ],
   "metadata": {
    "collapsed": false,
    "pycharm": {
     "name": "#%%\n"
    }
   }
  },
  {
   "cell_type": "code",
   "execution_count": 4,
   "outputs": [
    {
     "data": {
      "text/plain": "{1106222, 1506455, 2899662, 3098589}"
     },
     "execution_count": 4,
     "metadata": {},
     "output_type": "execute_result"
    }
   ],
   "source": [
    "# a = pd.read_csv('output/ards_data_dynamic/valid_ards_data_with_dynamic_feature_0_to_500.csv')\n",
    "# base = pd.read_csv('dataset/ards_data/valid_ards_data_with_base_info.csv').loc[:500, :]\n",
    "#"
   ],
   "metadata": {
    "collapsed": false,
    "pycharm": {
     "name": "#%%\n"
    }
   }
  },
  {
   "cell_type": "code",
   "execution_count": 4,
   "outputs": [
    {
     "name": "stdout",
     "output_type": "stream",
     "text": [
      "There are 12 files\n",
      "    icu_stay_id identification_offset  AST (SGOT)_median  AST (SGOT)_variance  \\\n",
      "0       1508516                   561              158.0                  NaN   \n",
      "1       2707680                   946                NaN                  NaN   \n",
      "2       1169795                  2703                NaN                  NaN   \n",
      "3        664415                   394                NaN                  NaN   \n",
      "4        152660                   646               18.0                  NaN   \n",
      "..          ...                   ...                ...                  ...   \n",
      "423     3068632                   521                NaN                  NaN   \n",
      "424     1103765                   560              287.0                  NaN   \n",
      "425     3040945                   937                NaN                  NaN   \n",
      "426     3044742                   643                NaN                  NaN   \n",
      "427     2390145                  1044              148.0                  NaN   \n",
      "\n",
      "     AST (SGOT)_rate_change  albumin_median  albumin_variance  \\\n",
      "0                       0.0             1.7               NaN   \n",
      "1                       NaN             NaN               NaN   \n",
      "2                       NaN             NaN               NaN   \n",
      "3                       NaN             NaN               NaN   \n",
      "4                       0.0             3.4               NaN   \n",
      "..                      ...             ...               ...   \n",
      "423                     NaN             NaN               NaN   \n",
      "424                     0.0             2.0               NaN   \n",
      "425                     NaN             NaN               NaN   \n",
      "426                     NaN             NaN               NaN   \n",
      "427                     0.0             1.0               NaN   \n",
      "\n",
      "     albumin_rate_change  ALP_median  ALP_variance  ...  \\\n",
      "0                    0.0         NaN           NaN  ...   \n",
      "1                    NaN         NaN           NaN  ...   \n",
      "2                    NaN         NaN           NaN  ...   \n",
      "3                    NaN         NaN           NaN  ...   \n",
      "4                    0.0         NaN           NaN  ...   \n",
      "..                   ...         ...           ...  ...   \n",
      "423                  NaN         NaN           NaN  ...   \n",
      "424                  0.0         NaN           NaN  ...   \n",
      "425                  NaN         NaN           NaN  ...   \n",
      "426                  NaN         NaN           NaN  ...   \n",
      "427                  0.0         NaN           NaN  ...   \n",
      "\n",
      "     total bilirubin_rate_change  Total CO2_median  Total CO2_variance  \\\n",
      "0                            0.0               NaN                 NaN   \n",
      "1                            NaN               NaN                 NaN   \n",
      "2                            NaN               NaN                 NaN   \n",
      "3                            NaN               NaN                 NaN   \n",
      "4                            0.0               NaN                 NaN   \n",
      "..                           ...               ...                 ...   \n",
      "423                          NaN               NaN                 NaN   \n",
      "424                          0.0               NaN                 NaN   \n",
      "425                          NaN              27.0                 0.0   \n",
      "426                          NaN               NaN                 NaN   \n",
      "427                          0.0               NaN                 NaN   \n",
      "\n",
      "     Total CO2_rate_change  TV/kg IBW_median  TV/kg IBW_variance  \\\n",
      "0                      NaN        490.000000            0.000000   \n",
      "1                      NaN          7.841400            0.000000   \n",
      "2                      NaN          8.218350            0.306310   \n",
      "3                      NaN          8.518900            0.000000   \n",
      "4                      NaN          6.176900            0.000000   \n",
      "..                     ...               ...                 ...   \n",
      "423                    NaN          8.516475            1.293837   \n",
      "424                    NaN               NaN                 NaN   \n",
      "425                    0.0          7.841400            0.000000   \n",
      "426                    NaN          6.441800            0.000000   \n",
      "427                    NaN          6.849300            0.000000   \n",
      "\n",
      "     TV/kg IBW_rate_change  WBC x 1000_median  WBC x 1000_variance  \\\n",
      "0                   0.0000              13.00                  NaN   \n",
      "1                   0.0000               1.90               0.0400   \n",
      "2                   0.7827                NaN                  NaN   \n",
      "3                   0.0000               6.70                  NaN   \n",
      "4                   0.0000               7.50                  NaN   \n",
      "..                     ...                ...                  ...   \n",
      "423                 2.1978              12.50                  NaN   \n",
      "424                    NaN               5.74               0.3969   \n",
      "425                 0.0000              10.40                  NaN   \n",
      "426                 0.0000               9.70                  NaN   \n",
      "427                 0.0000               8.60                  NaN   \n",
      "\n",
      "     WBC x 1000_rate_change  \n",
      "0                      0.00  \n",
      "1                      0.40  \n",
      "2                       NaN  \n",
      "3                      0.00  \n",
      "4                      0.00  \n",
      "..                      ...  \n",
      "423                    0.00  \n",
      "424                    1.26  \n",
      "425                    0.00  \n",
      "426                    0.00  \n",
      "427                    0.00  \n",
      "\n",
      "[4000 rows x 176 columns]\n",
      "Index(['icu_stay_id', 'identification_offset', 'AST (SGOT)_median',\n",
      "       'AST (SGOT)_variance', 'AST (SGOT)_rate_change', 'albumin_median',\n",
      "       'albumin_variance', 'albumin_rate_change', 'ALP_median', 'ALP_variance',\n",
      "       ...\n",
      "       'total bilirubin_rate_change', 'Total CO2_median', 'Total CO2_variance',\n",
      "       'Total CO2_rate_change', 'TV/kg IBW_median', 'TV/kg IBW_variance',\n",
      "       'TV/kg IBW_rate_change', 'WBC x 1000_median', 'WBC x 1000_variance',\n",
      "       'WBC x 1000_rate_change'],\n",
      "      dtype='object', length=176)\n",
      "end\n"
     ]
    }
   ],
   "source": [
    "from utils.common import combine_csvs\n",
    "\n",
    "combine_csvs('output/ards_data_dynamic', 'valid_ards_data_with_dynamic_feature_1000_to_5000.csv')\n",
    "print('end')"
   ],
   "metadata": {
    "collapsed": false,
    "pycharm": {
     "name": "#%%\n"
    }
   }
  }
 ],
 "metadata": {
  "kernelspec": {
   "display_name": "Python 3",
   "language": "python",
   "name": "python3"
  },
  "language_info": {
   "codemirror_mode": {
    "name": "ipython",
    "version": 2
   },
   "file_extension": ".py",
   "mimetype": "text/x-python",
   "name": "python",
   "nbconvert_exporter": "python",
   "pygments_lexer": "ipython2",
   "version": "2.7.6"
  }
 },
 "nbformat": 4,
 "nbformat_minor": 0
}